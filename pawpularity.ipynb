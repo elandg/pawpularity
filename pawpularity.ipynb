{
  "cells": [
    {
      "cell_type": "markdown",
      "metadata": {},
      "source": [
        "### TODO:\n",
        "* Tensorize\n",
        "* Organize transforms\n",
        "* Organize weight initializations\n",
        "* Base ResNet to identify what pets are in consideration\n",
        "* Organize gradient settings\n",
        "* Refactor model selection to create universal approach for adjusting final layer"
      ]
    },
    {
      "cell_type": "markdown",
      "metadata": {
        "id": "Zlfeu3Q4ThY6"
      },
      "source": [
        "# General Imports and Setup"
      ]
    },
    {
      "cell_type": "code",
      "execution_count": 195,
      "metadata": {
        "id": "W10QdPEdsIN8"
      },
      "outputs": [],
      "source": [
        "%matplotlib inline"
      ]
    },
    {
      "cell_type": "code",
      "execution_count": 196,
      "metadata": {
        "id": "7JB4_7whsIOB"
      },
      "outputs": [],
      "source": [
        "import torch\n",
        "import torchvision\n",
        "import torchvision.transforms as transforms\n",
        "import torchvision.models as models\n",
        "\n",
        "from torch.utils.data import Dataset, DataLoader\n",
        "\n",
        "import torch.nn as nn\n",
        "import torch.nn.functional as F\n",
        "\n",
        "import torch.optim as optim"
      ]
    },
    {
      "cell_type": "code",
      "execution_count": 197,
      "metadata": {
        "id": "imc0XqtJYiv5"
      },
      "outputs": [],
      "source": [
        "import os\n",
        "import shutil\n",
        "# from skimage import io, transform\n",
        "from skimage import io\n",
        "import pandas as pd\n",
        "import cv2\n",
        "from PIL import Image\n",
        "import matplotlib.pyplot as plt\n",
        "import numpy as np\n",
        "from sklearn import metrics"
      ]
    },
    {
      "cell_type": "code",
      "execution_count": 198,
      "metadata": {
        "colab": {
          "base_uri": "https://localhost:8080/"
        },
        "id": "UbrsKvOpX7xn",
        "outputId": "286bfa90-9a36-41f3-ea91-f78c4cb4a301"
      },
      "outputs": [
        {
          "name": "stdout",
          "output_type": "stream",
          "text": [
            "/home/elandg/ml/Pawpularity\n"
          ]
        }
      ],
      "source": [
        "# ROOT_DIR = '/home/elandg/ml/Pawpularity'\n",
        "ROOT_DIR = os.getcwd()\n",
        "print(ROOT_DIR)"
      ]
    },
    {
      "cell_type": "code",
      "execution_count": 199,
      "metadata": {
        "colab": {
          "base_uri": "https://localhost:8080/"
        },
        "id": "wWow88MXN8EP",
        "outputId": "fc095608-bd40-4d8f-dc1c-a9d5308d350f"
      },
      "outputs": [
        {
          "name": "stdout",
          "output_type": "stream",
          "text": [
            "cuda:0\n"
          ]
        }
      ],
      "source": [
        "device = torch.device(\"cuda:0\" if torch.cuda.is_available() else \"cpu\")\n",
        "\n",
        "print(device)"
      ]
    },
    {
      "cell_type": "markdown",
      "metadata": {
        "id": "qLrr4-olTtMI"
      },
      "source": [
        "# Competition Download\n",
        "\n",
        "Uncomment and run these code cells to load the dataset."
      ]
    },
    {
      "cell_type": "code",
      "execution_count": 200,
      "metadata": {
        "colab": {
          "base_uri": "https://localhost:8080/"
        },
        "id": "QakiWrC5GAR5",
        "outputId": "d09f4c8d-df13-4001-84a4-ca798c7fe57d"
      },
      "outputs": [],
      "source": [
        "# ! pip uninstall -y kaggle # run if error '429' when trying to download competition"
      ]
    },
    {
      "cell_type": "code",
      "execution_count": 201,
      "metadata": {
        "colab": {
          "base_uri": "https://localhost:8080/"
        },
        "id": "_BqxVsx8YqMy",
        "outputId": "8ab40b78-f18e-4b9c-f0c3-5ef1d0fb750b"
      },
      "outputs": [],
      "source": [
        "# % cd /content/drive/MyDrive/'Colab Notebooks'/Pawpularity\n",
        "# ! mkdir ~/.kaggle\n",
        "# ! cp ../kaggle.json ~/.kaggle/\n",
        "# ! chmod 600 ~/.kaggle/kaggle.json\n",
        "# ! pip install -q kaggle --upgrade\n",
        "# ! kaggle -v\n",
        "# ! kaggle competitions download -c petfinder-pawpularity-score -o\n",
        "# ! ls"
      ]
    },
    {
      "cell_type": "code",
      "execution_count": 202,
      "metadata": {
        "id": "XNPrzPeSdEr3"
      },
      "outputs": [],
      "source": [
        "# ! kaggle competitions download -h"
      ]
    },
    {
      "cell_type": "code",
      "execution_count": 203,
      "metadata": {
        "id": "uVm_fU0VGeSK"
      },
      "outputs": [],
      "source": [
        "# ! unzip -q -o petfinder-pawpularity-score.zip"
      ]
    },
    {
      "cell_type": "markdown",
      "metadata": {
        "id": "MkS5N4XysIOE"
      },
      "source": [
        "<div class=\"alert alert-info\"><h4>Note</h4><p>If running on Windows and you get a BrokenPipeError, try setting\n",
        "        the num_worker of torch.utils.data.DataLoader() to 0.</p></div>\n",
        "\n"
      ]
    },
    {
      "cell_type": "markdown",
      "metadata": {
        "id": "6Va9qimoUFGM"
      },
      "source": [
        "# Create Dataset"
      ]
    },
    {
      "cell_type": "code",
      "execution_count": 204,
      "metadata": {},
      "outputs": [
        {
          "data": {
            "text/html": [
              "<div>\n",
              "<style scoped>\n",
              "    .dataframe tbody tr th:only-of-type {\n",
              "        vertical-align: middle;\n",
              "    }\n",
              "\n",
              "    .dataframe tbody tr th {\n",
              "        vertical-align: top;\n",
              "    }\n",
              "\n",
              "    .dataframe thead th {\n",
              "        text-align: right;\n",
              "    }\n",
              "</style>\n",
              "<table border=\"1\" class=\"dataframe\">\n",
              "  <thead>\n",
              "    <tr style=\"text-align: right;\">\n",
              "      <th></th>\n",
              "      <th>Id</th>\n",
              "      <th>Subject Focus</th>\n",
              "      <th>Eyes</th>\n",
              "      <th>Face</th>\n",
              "      <th>Near</th>\n",
              "      <th>Action</th>\n",
              "      <th>Accessory</th>\n",
              "      <th>Group</th>\n",
              "      <th>Collage</th>\n",
              "      <th>Human</th>\n",
              "      <th>Occlusion</th>\n",
              "      <th>Info</th>\n",
              "      <th>Blur</th>\n",
              "      <th>Pawpularity</th>\n",
              "    </tr>\n",
              "  </thead>\n",
              "  <tbody>\n",
              "    <tr>\n",
              "      <th>0</th>\n",
              "      <td>0007de18844b0dbbb5e1f607da0606e0</td>\n",
              "      <td>0</td>\n",
              "      <td>1</td>\n",
              "      <td>1</td>\n",
              "      <td>1</td>\n",
              "      <td>0</td>\n",
              "      <td>0</td>\n",
              "      <td>1</td>\n",
              "      <td>0</td>\n",
              "      <td>0</td>\n",
              "      <td>0</td>\n",
              "      <td>0</td>\n",
              "      <td>0</td>\n",
              "      <td>62</td>\n",
              "    </tr>\n",
              "    <tr>\n",
              "      <th>1</th>\n",
              "      <td>0009c66b9439883ba2750fb825e1d7db</td>\n",
              "      <td>0</td>\n",
              "      <td>1</td>\n",
              "      <td>1</td>\n",
              "      <td>0</td>\n",
              "      <td>0</td>\n",
              "      <td>0</td>\n",
              "      <td>0</td>\n",
              "      <td>0</td>\n",
              "      <td>0</td>\n",
              "      <td>0</td>\n",
              "      <td>0</td>\n",
              "      <td>0</td>\n",
              "      <td>41</td>\n",
              "    </tr>\n",
              "    <tr>\n",
              "      <th>2</th>\n",
              "      <td>0013fd999caf9a3efe1352ca1b0d937e</td>\n",
              "      <td>0</td>\n",
              "      <td>1</td>\n",
              "      <td>1</td>\n",
              "      <td>1</td>\n",
              "      <td>0</td>\n",
              "      <td>0</td>\n",
              "      <td>0</td>\n",
              "      <td>0</td>\n",
              "      <td>1</td>\n",
              "      <td>1</td>\n",
              "      <td>0</td>\n",
              "      <td>0</td>\n",
              "      <td>27</td>\n",
              "    </tr>\n",
              "    <tr>\n",
              "      <th>3</th>\n",
              "      <td>0018df346ac9c1d8413cfcc888ca8246</td>\n",
              "      <td>0</td>\n",
              "      <td>1</td>\n",
              "      <td>1</td>\n",
              "      <td>1</td>\n",
              "      <td>0</td>\n",
              "      <td>0</td>\n",
              "      <td>0</td>\n",
              "      <td>0</td>\n",
              "      <td>0</td>\n",
              "      <td>0</td>\n",
              "      <td>0</td>\n",
              "      <td>0</td>\n",
              "      <td>14</td>\n",
              "    </tr>\n",
              "    <tr>\n",
              "      <th>4</th>\n",
              "      <td>001dc955e10590d3ca4673f034feeef2</td>\n",
              "      <td>0</td>\n",
              "      <td>0</td>\n",
              "      <td>0</td>\n",
              "      <td>1</td>\n",
              "      <td>0</td>\n",
              "      <td>0</td>\n",
              "      <td>1</td>\n",
              "      <td>0</td>\n",
              "      <td>0</td>\n",
              "      <td>0</td>\n",
              "      <td>0</td>\n",
              "      <td>0</td>\n",
              "      <td>71</td>\n",
              "    </tr>\n",
              "  </tbody>\n",
              "</table>\n",
              "</div>"
            ],
            "text/plain": [
              "                                 Id  Subject Focus  Eyes  Face  Near  Action  \\\n",
              "0  0007de18844b0dbbb5e1f607da0606e0              0     1     1     1       0   \n",
              "1  0009c66b9439883ba2750fb825e1d7db              0     1     1     0       0   \n",
              "2  0013fd999caf9a3efe1352ca1b0d937e              0     1     1     1       0   \n",
              "3  0018df346ac9c1d8413cfcc888ca8246              0     1     1     1       0   \n",
              "4  001dc955e10590d3ca4673f034feeef2              0     0     0     1       0   \n",
              "\n",
              "   Accessory  Group  Collage  Human  Occlusion  Info  Blur  Pawpularity  \n",
              "0          0      1        0      0          0     0     0           62  \n",
              "1          0      0        0      0          0     0     0           41  \n",
              "2          0      0        0      1          1     0     0           27  \n",
              "3          0      0        0      0          0     0     0           14  \n",
              "4          0      1        0      0          0     0     0           71  "
            ]
          },
          "execution_count": 204,
          "metadata": {},
          "output_type": "execute_result"
        }
      ],
      "source": [
        "df_raw = pd.read_csv(os.path.join(ROOT_DIR, 'train.csv'))\n",
        "df_rescaled = df_raw.assign(Pawpularity=df_raw['Pawpularity'] - 1)\n",
        "df_rescaled.to_csv(os.path.join(ROOT_DIR, 'train_rescaled.csv'))\n",
        "df_10_bins = df_rescaled.assign(Pawpularity=df_rescaled['Pawpularity'].floordiv(10))\n",
        "df_10_bins.to_csv(os.path.join(ROOT_DIR, 'train_10_bins.csv'))\n",
        "df_20_bins = df_rescaled.assign(Pawpularity=df_rescaled['Pawpularity'].floordiv(5))\n",
        "df_20_bins.to_csv(os.path.join(ROOT_DIR, 'train_20_bins.csv'))\n",
        "# df_raw.head()\n",
        "df_rescaled.head()\n",
        "# df_binned_10.head()\n",
        "# df_binned_5.head()"
      ]
    },
    {
      "cell_type": "code",
      "execution_count": 205,
      "metadata": {
        "id": "iNaExbESWnkx"
      },
      "outputs": [],
      "source": [
        "class PawpularityDataset(Dataset):\n",
        "    \"\"\"Pawpularity dataset.\"\"\"\n",
        "\n",
        "    def __init__(self, csv_file, root_dir, transform=None):\n",
        "        \"\"\"\n",
        "        Args:\n",
        "            csv_file (string): Path to the csv file with annotations.\n",
        "            root_dir (string): Directory with all the images.\n",
        "            transform (callable, optional): Optional transform to be applied\n",
        "                on a sample.\n",
        "        \"\"\"\n",
        "        self.df = pd.read_csv(csv_file)\n",
        "        # print(self.df)\n",
        "        self.root_dir = root_dir\n",
        "        self.transform = transform\n",
        "        self.num_classes = self.df.Pawpularity.max() + 1\n",
        "\n",
        "    def __len__(self):\n",
        "            return len(self.df)\n",
        "\n",
        "    def __getitem__(self, idx):\n",
        "        if torch.is_tensor(idx):\n",
        "            idx = idx.tolist()\n",
        "        \n",
        "        # pd.loc can retrieve multiple rows/columns\n",
        "        metadata = torch.tensor(self.df.loc[idx, 'Subject Focus':'Blur'])\n",
        "\n",
        "        # pd.at is faster than pd.loc but only works for single values\n",
        "        img_name = os.path.join(self.root_dir,\n",
        "                                self.df.at[idx, 'Id'] + '.jpg')\n",
        "\n",
        "        image = Image.fromarray(io.imread(img_name))\n",
        "        score = torch.tensor(self.df.at[idx, 'Pawpularity'] - 1).float()\n",
        "\n",
        "        sample = {'image': image, 'metadata':metadata, 'score': score}\n",
        "\n",
        "        if self.transform:\n",
        "            sample['image'] = self.transform(sample['image'])\n",
        "\n",
        "        return sample\n",
        "    \n",
        "    def get_img_sizes(self, verbose=False):\n",
        "        img_sizes = []\n",
        "        count = 0\n",
        "        for i in range(len(self)):\n",
        "            if verbose and count % 1000 == 0:\n",
        "                print(count)\n",
        "            img = np.array(self[i]['image'])\n",
        "            if not isinstance(img, (np.ndarray)):\n",
        "                img_sizes.append(img.data().cpu().numpy().shape)\n",
        "            else:\n",
        "                img_sizes.append(img.shape)\n",
        "            count += 1\n",
        "        if verbose:\n",
        "            print(count)\n",
        "        return img_sizes\n",
        "            \n",
        "# Parameters for \"Data Analysis\"\n",
        "csv_file = os.path.join(ROOT_DIR, 'train_10_bins.csv')\n",
        "images = os.path.join(ROOT_DIR, 'train')\n",
        "# transform = transforms.Compose([\n",
        "#         transforms.ToTensor(),\n",
        "#         transforms.Resize(IMG_SIZE)\n",
        "# ])\n",
        "transform = None\n",
        "dataset = PawpularityDataset(csv_file, images, transform=transform)"
      ]
    },
    {
      "cell_type": "markdown",
      "metadata": {
        "id": "bx7UOEp6Y7u3"
      },
      "source": [
        "# Data Analysis"
      ]
    },
    {
      "cell_type": "code",
      "execution_count": 206,
      "metadata": {
        "id": "PNpjF69VaLKM"
      },
      "outputs": [],
      "source": [
        "batch_size_da = 32\n",
        "\n",
        "def get_mean_and_std(dataloader):\n",
        "    channels_sum, channels_squared_sum, num_batches = 0, 0, 0\n",
        "    for sample in dataloader:\n",
        "        data = sample['image']\n",
        "        # Mean over batch, height and width, but not over the channels\n",
        "        channels_sum += torch.mean(data, dim=[0,2,3])\n",
        "        channels_squared_sum += torch.mean(data**2, dim=[0,2,3])\n",
        "        num_batches += 1\n",
        "    \n",
        "    mean = channels_sum / num_batches\n",
        "\n",
        "    # std = sqrt(E[X^2] - (E[X])^2)\n",
        "    std = (channels_squared_sum / num_batches - mean ** 2) ** 0.5\n",
        "\n",
        "    return mean, std\n",
        "\n",
        "dataloader = DataLoader(dataset, batch_size=batch_size_da, shuffle=True, num_workers=2)\n",
        "# mean, std = get_mean_and_std(dataloader)\n",
        "# print(f'mean: {mean}, std: {std}') # mean: [0.5188, 0.4840, 0.4462] std: [0.2681, 0.2639, 0.2659]"
      ]
    },
    {
      "cell_type": "code",
      "execution_count": 207,
      "metadata": {
        "colab": {
          "base_uri": "https://localhost:8080/",
          "height": 189
        },
        "id": "AGEINYdBBCP4",
        "outputId": "d2667adc-e5a9-4c9a-9647-2b827283c544"
      },
      "outputs": [
        {
          "data": {
            "image/png": "[encoded data removed]",
            "text/plain": [
              "<Figure size 432x288 with 1 Axes>"
            ]
          },
          "metadata": {
            "needs_background": "light"
          },
          "output_type": "display_data"
        }
      ],
      "source": [
        "scores = dataset.df['Pawpularity']\n",
        "_ = plt.hist(scores, bins=20)"
      ]
    },
    {
      "cell_type": "code",
      "execution_count": 83,
      "metadata": {
        "id": "8HBLagGDlQd4"
      },
      "outputs": [
        {
          "name": "stdout",
          "output_type": "stream",
          "text": [
            "0 9\n"
          ]
        }
      ],
      "source": [
        "print(min(scores), max(scores))"
      ]
    },
    {
      "cell_type": "code",
      "execution_count": null,
      "metadata": {
        "id": "KLbVz1mccIN6"
      },
      "outputs": [
        {
          "data": {
            "text/plain": [
              "<matplotlib.collections.PathCollection at 0x7f19bfedc340>"
            ]
          },
          "execution_count": 34,
          "metadata": {},
          "output_type": "execute_result"
        },
        {
          "data": {
            "image/png": "[encoded data removed]",
            "text/plain": [
              "<Figure size 432x288 with 1 Axes>"
            ]
          },
          "metadata": {
            "needs_background": "light"
          },
          "output_type": "display_data"
        }
      ],
      "source": [
        "def plot_scatter_sizes(img_sizes):\n",
        "    img_sizes = np.array(img_sizes)\n",
        "    plt.scatter(img_sizes[:,0], img_sizes[:,1], color='blue', alpha=.1)\n",
        "    plt.show()\n",
        "\n",
        "def plot_scatter_ratios(img_sizes):\n",
        "    print(img_sizes[:,0] / img_sizes[:,1])\n",
        "    # print dist of aspect ratios\n",
        "    plt.scatter(range(9912), img_sizes[:,0] / img_sizes[:,1], alpha=.1)\n",
        "    plt.show()\n",
        "\n",
        "def largest_n_img_sizes(img_sizes):\n",
        "    print(np.amax(img_sizes[:,0]))\n",
        "    print(np.amax(img_sizes[:,1]))\n",
        "\n",
        "    vals, counts = np.unique(img_sizes, return_counts=True, axis=0) # returns unique H x W pairings and counts for each pairing\n",
        "    # print(vals, len(counts))\n",
        "    top_n = 5\n",
        "    print(np.sort(-1 * counts)[:top_n])\n",
        "    index = np.argsort(-1 * counts)[:top_n] # sorts indices by highest to lowest counts and returns top 5 highest\n",
        "    print(vals[index])\n",
        "\n",
        "def run_long_analysis(dataset):\n",
        "\n",
        "    img_sizes = np.array(dataset.get_img_sizes(verbose=True))\n",
        "\n",
        "    plot_scatter_sizes(img_sizes)\n",
        "    plot_scatter_ratios(img_sizes)\n",
        "    largest_n_img_sizes(img_sizes)\n",
        "\n",
        "# run_long_analysis(dataset)"
      ]
    },
    {
      "cell_type": "markdown",
      "metadata": {
        "id": "JyykhMzbZYzQ"
      },
      "source": [
        "# Design Model"
      ]
    },
    {
      "cell_type": "code",
      "execution_count": 208,
      "metadata": {
        "colab": {
          "base_uri": "https://localhost:8080/"
        },
        "id": "17k9SfkhtvwS",
        "outputId": "4e7d23c6-9f41-42a8-fcc0-2d80e4e915dd"
      },
      "outputs": [],
      "source": [
        "import re\n",
        "\n",
        "class RMSELoss(nn.Module):\n",
        "    def __init__(self, eps=1e-6):\n",
        "        super().__init__()\n",
        "        self.mse = nn.MSELoss()\n",
        "        self.eps = eps\n",
        "        \n",
        "    def forward(self,yhat,y):\n",
        "        loss = torch.sqrt(self.mse(yhat,y) + self.eps)\n",
        "        return loss\n",
        "\n",
        "criterions = []\n",
        "criterions.append({'name': 'MSE', 'criterion':nn.MSELoss()})\n",
        "# criterions.append({'name': 'CE', 'criterion':nn.CrossEntropyLoss()})\n",
        "# criterion = RMSELoss()\n",
        "# criterion = nn.BCEWithLogitsLoss()\n",
        "# criterion = FocalLoss()\n",
        "\n",
        "from torchvision.models import inception_v3, Inception_V3_Weights, \\\n",
        "                                resnet50, ResNet50_Weights, \\\n",
        "                                alexnet, AlexNet_Weights, \\\n",
        "                                vgg19_bn, VGG11_BN_Weights, \\\n",
        "                                densenet201, DenseNet201_Weights, \\\n",
        "                                efficientnet_b7, EfficientNet_B7_Weights, \\\n",
        "                                efficientnet_v2_l, EfficientNet_V2_L_Weights\n",
        "\n",
        "# Initialize weights to small random values (speeds up training)\n",
        "# Should not use if loading pretrained weights\n",
        "def initialize_weights(module):\n",
        "    # print(module)\n",
        "    if isinstance(module, nn.Conv2d):\n",
        "        nn.init.uniform_(module.weight.data)\n",
        "        if module.bias is not None:\n",
        "            nn.init.constant_(module.bias.data, 0.0)\n",
        "    elif isinstance(module, nn.BatchNorm2d):\n",
        "        nn.init.uniform_(module.weight.data)\n",
        "        nn.init.uniform_(module.bias.data)\n",
        "    elif isinstance(module, nn.Linear):\n",
        "        nn.init.uniform_(module.weight.data)\n",
        "        if module.bias is not None:\n",
        "            nn.init.constant_(module.bias.data, 0)\n",
        "\n",
        "# model requires grad by default\n",
        "# if we dont have weights aka FE is false\n",
        "#     all layers require grad\n",
        "# else we do have weights aka FE is true\n",
        "#     all layers except last dont require grad\n",
        "\n",
        "# Finetuning is taking a pretrained model and training more\n",
        "# Feature extracting is using the pretrained model to extract features adnd only training final layers to make inference from extracted features\n",
        "# Only training final layer if feature_extracting=True\n",
        "def set_parameter_requires_grad(model, freeze_backbone):\n",
        "    if freeze_backbone:\n",
        "        for param in model.parameters():\n",
        "            param.requires_grad = False\n",
        "\n",
        "class MetaNet(nn.Module):\n",
        "    def __init__(self, backbone, num_classes):\n",
        "        super(MetaNet, self).__init__()\n",
        "        self.name = backbone.name + '_meta'\n",
        "        self.backbone = backbone\n",
        "        self.fc1 = nn.Linear(num_classes + 12, 1) # 12 values from metadata\n",
        "        \n",
        "    def forward(self, image, data):\n",
        "        if self.backbone.name == 'inception':\n",
        "            x1 = self.backbone(image).logits\n",
        "        else:\n",
        "            x1 = self.backbone(image)\n",
        "        x2 = data\n",
        "        \n",
        "        x = torch.cat((x1, x2), dim=1)\n",
        "        x = self.fc1(x)\n",
        "        return x\n",
        "\n",
        "def initialize_model(model_name, num_classes, use_metadata=False, freeze_backbone=False, pretrained_weights=None):\n",
        "        # Initialize these variables which will be set in this if statement. Each of these\n",
        "        # variables is model specific.\n",
        "        model_ft = None\n",
        "        transform = None\n",
        "        input_size = 0\n",
        "\n",
        "        # if metadata:\n",
        "        #     num_classes = 10 # hyperparameter\n",
        "        # else:\n",
        "        #     num_classes = 1\n",
        "\n",
        "        if model_name == \"resnet\":\n",
        "            \"\"\" Resnet18\n",
        "            \"\"\"\n",
        "            model_ft = models.resnet50(weights=pretrained_weights)\n",
        "            set_parameter_requires_grad(model_ft, freeze_backbone)\n",
        "            num_ftrs = model_ft.fc.in_features\n",
        "            model_ft.fc = nn.Linear(num_ftrs, num_classes)\n",
        "            initialize_weights(model_ft.fc)\n",
        "            input_size = 232\n",
        "\n",
        "        elif model_name == \"alexnet\":\n",
        "            \"\"\" Alexnet\n",
        "            \"\"\"\n",
        "            model_ft = models.alexnet(weights=pretrained_weights)\n",
        "            set_parameter_requires_grad(model_ft, freeze_backbone)\n",
        "            num_ftrs = model_ft.classifier[6].in_features\n",
        "            model_ft.classifier[6] = nn.Linear(num_ftrs,num_classes)\n",
        "            initialize_weights(model_ft.classifier[6])\n",
        "            input_size = 224\n",
        "\n",
        "        elif model_name == \"vgg\":\n",
        "            \"\"\" VGG11_bn\n",
        "            \"\"\"\n",
        "            model_ft = models.vgg11_bn(weights=pretrained_weights)\n",
        "            set_parameter_requires_grad(model_ft, freeze_backbone)\n",
        "            num_ftrs = model_ft.classifier[6].in_features\n",
        "            model_ft.classifier[6] = nn.Linear(num_ftrs,num_classes)\n",
        "            initialize_weights(model_ft.classifier[6])\n",
        "            input_size = 224\n",
        "\n",
        "        elif model_name == \"squeezenet\":\n",
        "            \"\"\" Squeezenet\n",
        "            \"\"\"\n",
        "            model_ft = models.squeezenet1_0(weights=pretrained_weights)\n",
        "            set_parameter_requires_grad(model_ft, freeze_backbone)\n",
        "            model_ft.classifier[1] = nn.Conv2d(512, num_classes, kernel_size=(1,1), stride=(1,1))\n",
        "            initialize_weights(model_ft.classifier[1])\n",
        "            # model_ft.num_classes = num_classes # Doesn't seem to be needed but used in PyTorch documentation\n",
        "            input_size = 224\n",
        "\n",
        "        elif model_name == \"densenet\":\n",
        "            \"\"\" Densenet\n",
        "            \"\"\"\n",
        "            model_ft = models.densenet121(weights=pretrained_weights)\n",
        "            set_parameter_requires_grad(model_ft, freeze_backbone)\n",
        "            num_ftrs = model_ft.classifier.in_features\n",
        "            model_ft.classifier = nn.Linear(num_ftrs, num_classes)\n",
        "            initialize_weights(model_ft.classifier)\n",
        "            input_size = 224\n",
        "\n",
        "        elif model_name == \"inception\":\n",
        "            \"\"\" Inception v3\n",
        "            Be careful, expects (299,299) sized images and has auxiliary output\n",
        "            \"\"\"\n",
        "            model_ft = models.inception_v3(weights=pretrained_weights)\n",
        "            set_parameter_requires_grad(model_ft, freeze_backbone)\n",
        "            # Handle the auxilary net\n",
        "            num_ftrs = model_ft.AuxLogits.fc.in_features\n",
        "            model_ft.AuxLogits.fc = nn.Linear(num_ftrs, 1)\n",
        "            initialize_weights(model_ft.AuxLogits.fc)\n",
        "            # Handle the primary net\n",
        "            num_ftrs = model_ft.fc.in_features\n",
        "            model_ft.fc = nn.Linear(num_ftrs, num_classes)\n",
        "            initialize_weights(model_ft.fc)\n",
        "            input_size = 299\n",
        "        \n",
        "        # Too large\n",
        "        elif model_name == \"convnext\":\n",
        "            \"\"\" ConvNeXt\n",
        "            \"\"\"\n",
        "            model_ft = models.convnext_large(weights=pretrained_weights)\n",
        "            set_parameter_requires_grad(model_ft, freeze_backbone)\n",
        "            num_ftrs = model_ft.classifier[2].in_features\n",
        "            model_ft.classifier[2] = nn.Linear(num_ftrs, num_classes)\n",
        "            initialize_weights(model_ft.classifier[2])\n",
        "            input_size = 232\n",
        "\n",
        "        # Too large\n",
        "        elif model_name == \"efficient_b7\":\n",
        "            \"\"\" EfficientNet\n",
        "            \"\"\"\n",
        "            model_ft = models.efficientnet_b7(weights=pretrained_weights)\n",
        "            set_parameter_requires_grad(model_ft, freeze_backbone)\n",
        "            num_ftrs = model_ft.classifier[1].in_features\n",
        "            model_ft.classifier[1] = nn.Linear(num_ftrs, num_classes)\n",
        "            initialize_weights(model_ft.classifier[1])\n",
        "            input_size = 600\n",
        "\n",
        "        elif model_name == \"efficient_V2_L\":\n",
        "            \"\"\" EfficientNet\n",
        "            \"\"\"\n",
        "            model_ft = models.efficientnet_v2_l(weights=pretrained_weights)\n",
        "            set_parameter_requires_grad(model_ft, freeze_backbone)\n",
        "            num_ftrs = model_ft.classifier[1].in_features\n",
        "            model_ft.classifier[1] = nn.Linear(num_ftrs, num_classes)\n",
        "            initialize_weights(model_ft.classifier[1])\n",
        "            input_size = 480\n",
        "\n",
        "        else:\n",
        "            print(\"Invalid model name, exiting...\")\n",
        "            exit()\n",
        "\n",
        "        \n",
        "        # with open('model.txt', 'w') as f:\n",
        "        #     print(model_ft, file=f);\n",
        "        \n",
        "        model_ft.name = model_name\n",
        "        if use_metadata:\n",
        "            model_ft = MetaNet(model_ft, num_classes)\n",
        "\n",
        "        # Can pass in pretrained model weights and transforms or start fresh with only model architecture\n",
        "        if pretrained_weights is not None:\n",
        "            # set_parameter_requires_grad(model_ft)\n",
        "            transform = pretrained_weights.transforms()\n",
        "            # https://stackoverflow.com/questions/3075130/what-is-the-difference-between-and-regular-expressions\n",
        "            # https://stackoverflow.com/questions/6109882/regex-match-all-characters-between-two-strings\n",
        "            input_size = int(re.search('(?<=resize_size=)([^Z]*)(?=,)|(?<=resize_size=)([^Z]*)(?=\\))', str(pretrained_weights.transforms)).group(0))\n",
        "            # input_size = int(re.search('(?<=resize_size=)([^Z]*)(?=\\n)', str(transform)).group(0)) # struggling to recognize characters in str\n",
        "        else:\n",
        "            for module in model_ft.modules():\n",
        "                initialize_weights(module)\n",
        "            transform = transforms.Compose([\n",
        "                            transforms.ToTensor(),\n",
        "                            transforms.Resize(IMG_SIZE),\n",
        "                            transforms.Normalize(\n",
        "                                mean=[0.5188, 0.4840, 0.4462],\n",
        "                                std=[0.2681, 0.2639, 0.2659]\n",
        "                            )\n",
        "                        ])\n",
        "\n",
        "        return model_ft, input_size, transform\n",
        "\n",
        "model_dicts = [\n",
        "    {'name': 'resnet', 'model': models.resnet50, 'weights': ResNet50_Weights.IMAGENET1K_V2},\n",
        "    {'name': 'alexnet', 'model': models.alexnet, 'weights': AlexNet_Weights.IMAGENET1K_V1},\n",
        "    {'name': 'vgg', 'model': models.vgg11, 'weights': VGG11_BN_Weights.IMAGENET1K_V1},\n",
        "    {'name': 'squeezenet', 'model': models.squeezenet1_0, 'weights': None},\n",
        "    {'name': 'densenet', 'model': models.densenet121, 'weights': DenseNet201_Weights.IMAGENET1K_V1},\n",
        "    {'name': 'inception', 'model': models.inception_v3, 'weights': Inception_V3_Weights.IMAGENET1K_V1},\n",
        "    {'name': 'convnext', 'model': models.convnext_large, 'weights': None},\n",
        "    {'name': 'efficient_b7', 'model': models.efficientnet_b7, 'weights': EfficientNet_B7_Weights.IMAGENET1K_V1},\n",
        "    {'name': 'efficient_V2_L', 'model': models.efficientnet_v2_l, 'weights': EfficientNet_V2_L_Weights.IMAGENET1K_V1},\n",
        "]\n",
        "\n",
        "model_dict = model_dicts[0]\n",
        "model_name = model_dict['name']\n",
        "if criterions[0]['name'] == 'CE':\n",
        "    num_classes = dataset.num_classes\n",
        "else:\n",
        "    num_classes = 1\n",
        "# pretrained_weights = None\n",
        "pretrained_weights = model_dict['weights']\n",
        "use_metadata = True\n",
        "\n",
        "# Initialize the model for this run\n",
        "net, img_size, transform = initialize_model(model_name, num_classes, use_metadata=use_metadata, freeze_backbone=True, pretrained_weights=pretrained_weights)\n",
        "IMG_SIZE = (img_size, img_size)\n",
        "\n",
        "# Print the model we just instantiated\n",
        "with open('model.txt', 'w') as f:\n",
        "    print(net, file=f);\n",
        "\n",
        "net.to(device);\n",
        "\n",
        "# calc new rgb mean and std with new image size?\n",
        "# be able to have a shortcut button to run selected cell cluster that is always on the screen. similar to run above and cell/below\n",
        "# Functionality handled by lambda in optimizer but good to sanity check\n",
        "with open('weights.txt', 'w') as f:\n",
        "    f.write(\"Params to learn: \\n\")\n",
        "    for name,param in net.named_parameters():\n",
        "        if param.requires_grad == True:\n",
        "            f.write(f'\\t {name}\\n')\n",
        "\n",
        "\n",
        "# Passing frozen layers into optimizer should produce an error\n",
        "# optimizer = optim.SGD(net.parameters(), lr=0.001, momentum=0.8, dampening=0, weight_decay=0.00005)\n",
        "optimizer = optim.Adam(filter(lambda p: p.requires_grad, net.parameters()), lr=0.0001)"
      ]
    },
    {
      "cell_type": "code",
      "execution_count": 209,
      "metadata": {},
      "outputs": [
        {
          "name": "stdout",
          "output_type": "stream",
          "text": [
            "tensor([[-3.1295],\n",
            "        [-3.1295]], device='cuda:0', grad_fn=<AddmmBackward0>)\n"
          ]
        }
      ],
      "source": [
        "# N must be > 1 or else it breaks when running batch norm layer\n",
        "input_shape = ((2, 3) + IMG_SIZE)\n",
        "input_imgs = torch.zeros(input_shape)\n",
        "if use_metadata:\n",
        "    input_metadata = torch.zeros((2, 12))\n",
        "    output = net(input_imgs.to(device), input_metadata.to(device))\n",
        "else:\n",
        "    output = net(input_imgs.to(device))\n",
        "\n",
        "print(output)"
      ]
    },
    {
      "cell_type": "code",
      "execution_count": 210,
      "metadata": {},
      "outputs": [
        {
          "name": "stdout",
          "output_type": "stream",
          "text": [
            "4294836224\n",
            "1954545664\n",
            "260505088\n",
            "1694040576\n"
          ]
        },
        {
          "data": {
            "text/plain": [
              "(1053596059, 4294836224)"
            ]
          },
          "execution_count": 210,
          "metadata": {},
          "output_type": "execute_result"
        }
      ],
      "source": [
        "t = torch.cuda.get_device_properties(0).total_memory\n",
        "r = torch.cuda.memory_reserved(0)\n",
        "a = torch.cuda.memory_allocated(0)\n",
        "f = r-a  # free inside reserved\n",
        "print(t)\n",
        "print(r)\n",
        "print(a)\n",
        "print(f)\n",
        "torch.cuda.mem_get_info()"
      ]
    },
    {
      "cell_type": "markdown",
      "metadata": {
        "id": "H23PYK5aZGUu"
      },
      "source": [
        "# Prepare Data"
      ]
    },
    {
      "cell_type": "code",
      "execution_count": 211,
      "metadata": {},
      "outputs": [],
      "source": [
        "# Run to compute optimal number of workers for system\n",
        "from time import time\n",
        "import multiprocessing as mp\n",
        "\n",
        "def find_opt_num_workers(trainset, batch_size):\n",
        "    opt_num_workers = 0\n",
        "    min_time = float('inf')\n",
        "    for num_workers in range(2, mp.cpu_count(), 2):  \n",
        "        tr_loader = DataLoader(trainset, shuffle=True, num_workers=num_workers, batch_size=batch_size, pin_memory=False)\n",
        "        start = time()\n",
        "        for epoch in range(1, 3):\n",
        "            for i, data in enumerate(tr_loader, 0):\n",
        "                pass\n",
        "        end = time()\n",
        "        timespan = end - start\n",
        "        if timespan < min_time:\n",
        "            opt_num_workers = num_workers\n",
        "            min_time = timespan\n",
        "        print(\"Finish with:{} second, num_workers={}\".format(end - start, num_workers))\n",
        "    return opt_num_workers\n",
        "\n",
        "opt_num_workers = 4\n",
        "\n",
        "batch_size = 64\n",
        "\n",
        "dataset = PawpularityDataset(csv_file, images, transform=transform)\n",
        "\n",
        "# 9912 samples total\n",
        "trainset, valset, testset = torch.utils.data.random_split(dataset, [6912, 2000, 1000])\n",
        "\n",
        "tr_loader = torch.utils.data.DataLoader(trainset, batch_size=batch_size,\n",
        "                                        shuffle=True, num_workers=opt_num_workers)\n",
        "\n",
        "val_loader = torch.utils.data.DataLoader(valset, batch_size=batch_size,\n",
        "                                        shuffle=True, num_workers=opt_num_workers)\n",
        "\n",
        "te_loader = torch.utils.data.DataLoader(testset, batch_size=batch_size,\n",
        "                                        shuffle=False, num_workers=opt_num_workers)"
      ]
    },
    {
      "cell_type": "code",
      "execution_count": 212,
      "metadata": {
        "colab": {
          "base_uri": "https://localhost:8080/",
          "height": 0
        },
        "id": "nAVoubOIsIOG",
        "outputId": "5aae2ec8-92d4-474f-b843-e93f3883b82b"
      },
      "outputs": [
        {
          "ename": "SyntaxError",
          "evalue": "invalid syntax (3046013176.py, line 31)",
          "output_type": "error",
          "traceback": [
            "\u001b[0;36m  Input \u001b[0;32mIn [212]\u001b[0;36m\u001b[0m\n\u001b[0;31m    if\u001b[0m\n\u001b[0m       ^\u001b[0m\n\u001b[0;31mSyntaxError\u001b[0m\u001b[0;31m:\u001b[0m invalid syntax\n"
          ]
        }
      ],
      "source": [
        "# function to show an image - seems like images are not restored properly\n",
        "def imshow(img):\n",
        "    # print(img.size()) # 8 x 4 grid casuses shape of 1810 x 906\n",
        "    img = img / 2 + 0.5         # unnormalize\n",
        "    npimg = img.numpy()\n",
        "    plt.imshow(np.transpose(npimg, (1, 2, 0)))\n",
        "    # print(img.size())\n",
        "    # stds = [0.2681, 0.2639, 0.2659]\n",
        "    # means = [0.5188, 0.4840, 0.4462]\n",
        "    # img = np.dstack((img[i] * stds[i] + means[i] for i in range(3)))\n",
        "    # img = img * [0.2681, 0.2639, 0.2659] + [0.5188, 0.4840, 0.4462]\n",
        "    plt.show()\n",
        "\n",
        "\n",
        "# get some random training images\n",
        "dataiter = iter(te_loader)\n",
        "print(dataiter)\n",
        "# Keeps breaking after training?\n",
        "batch = dataiter.next()\n",
        "# print(batch['image'].size())\n",
        "\n",
        "# show images\n",
        "imshow(torchvision.utils.make_grid(batch['image']))\n",
        "classes = [i for i in range(num_classes)]\n",
        "# print(classes)\n",
        "\n",
        "# print labels\n",
        "# print(batch['score'][0])\n",
        "# print(classes)\n",
        "# print(' '.join('%3s' % range(100)[batch['score'][j]] for j in range(batch_size)))\n",
        "if \n",
        "print(' '.join('%3s' % range(100)[int(batch['score'][j].item())] for j in range(batch_size))) # Use classes[...] to remove tensor notation\n",
        "# print(' '.join('%3s' % classes[int(batch['score'][j].item())] for j in range(batch_size))) # Use classes[...] to remove tensor notation"
      ]
    },
    {
      "cell_type": "markdown",
      "metadata": {
        "id": "u_zxex9jZjdM"
      },
      "source": [
        "# Train Model"
      ]
    },
    {
      "cell_type": "code",
      "execution_count": null,
      "metadata": {
        "colab": {
          "base_uri": "https://localhost:8080/"
        },
        "id": "UvkBogtcwl3_",
        "outputId": "b2697f17-11ed-4e91-c8a8-8b86182cde4c"
      },
      "outputs": [],
      "source": [
        "# from sklearn.metrics import mean_absolute_error\n",
        "mean_absolute_error = nn.L1Loss()\n",
        "\n",
        "# TODO: if path exists, print the stats to a text file all at once at the end\n",
        "def log_training(epoch, stats, metric_labels, path=None):\n",
        "    \"\"\"Print the train, validation, test accuracy/loss/auroc.\n",
        "\n",
        "    Each epoch in `stats` should have order\n",
        "        [val_acc, val_loss, val_auc, train_acc, ...]\n",
        "    Test accuracy is optional and will only be logged if stats is length 9.\n",
        "    \"\"\"\n",
        "    splits = [\"Val\", \"Train\", \"Test\"]\n",
        "    print(f'Epoch {epoch}')\n",
        "    for j, split in enumerate(splits):\n",
        "        for i, m in enumerate(metric_labels):\n",
        "            idx = len(metric_labels) * j + i\n",
        "            if idx >= len(stats[-1]):\n",
        "                continue\n",
        "            print(f'\\t{split} {m}: {round(stats[-1][idx], 4)}')\n",
        "    # include_train = len(stats[-1]) / 3 == 3\n",
        "    # splits = [\"Validation\", \"Train\", \"Test\"]\n",
        "    # metrics = [\"Accuracy\", \"Loss\", \"MAE\"]\n",
        "    # if path is not None:\n",
        "    #     with open(path, 'a') as f:\n",
        "    #         print(\"Epoch {}\".format(epoch), file=f)\n",
        "    #         for j, split in enumerate(splits):\n",
        "    #             for i, metric in enumerate(metrics):\n",
        "    #                 idx = len(metrics) * j + i\n",
        "    #                 if idx >= len(stats[-1]):\n",
        "    #                     continue\n",
        "    #                 print(f\"\\t{split} {metric}:{round(stats[-1][idx],4)}\", file=f)\n",
        "    # else:\n",
        "    #     print(\"Epoch {}\".format(epoch))\n",
        "    #     for j, split in enumerate(splits):\n",
        "    #         for i, metric in enumerate(metrics):\n",
        "    #             idx = len(metrics) * j + i\n",
        "    #             if idx >= len(stats[-1]):\n",
        "    #                 continue\n",
        "    #             print(f\"\\t{split} {metric}:{round(stats[-1][idx],4)}\")\n",
        "\n",
        "def print_plots(epoch, stats, metric_labels, name=\"CNN Training\", path=None):\n",
        "    fig, axes = plt.subplots(1, 3, figsize=(20, 5))\n",
        "    plt.suptitle(name)\n",
        "    # axes[0].set_xlabel(\"Epoch\")\n",
        "    # axes[0].set_ylabel(\"Accuracy\")\n",
        "    # axes[1].set_xlabel(\"Epoch\")\n",
        "    # axes[1].set_ylabel(\"Loss\")\n",
        "    # axes[2].set_xlabel(\"Epoch\")\n",
        "    # axes[2].set_ylabel(\"AUROC\")\n",
        "\n",
        "    splits = [\"Validation\", \"Train\", \"Test\"]\n",
        "    colors = [\"r\", \"b\", \"g\"]\n",
        "    for i, metric in enumerate(metric_labels):\n",
        "        for j, split in enumerate(splits):\n",
        "            idx = len(metric_labels) * j + i\n",
        "            if idx >= len(stats[-1]):\n",
        "                continue\n",
        "            # __import__('pdb').set_trace()\n",
        "            axes[i].plot(\n",
        "                range(epoch - len(stats) + 1, epoch + 1),\n",
        "                [stat[idx] for stat in stats],\n",
        "                linestyle=\"--\",\n",
        "                marker=\"o\",\n",
        "                color=colors[j],\n",
        "            )\n",
        "        axes[i].set_xlabel(\"Epoch\")\n",
        "        axes[i].set_ylabel(metric_labels[i])\n",
        "        axes[i].legend(splits[: int(len(stats[-1]) / len(metric_labels))])\n",
        "    if path:\n",
        "        plt.savefig(path)\n",
        "    plt.pause(0.00001)\n",
        "\n",
        "def predictions(model_name, loss_criterion, output):\n",
        "    # print(logits.size())\n",
        "    if loss_criterion['name'] == 'CE':\n",
        "        if 'inception' in model_name:\n",
        "            pred = output.logits.argmax(axis=1).float()\n",
        "        else:\n",
        "            pred = output.argmax(axis=1).float()\n",
        "    else:\n",
        "        if 'inception' in model_name:\n",
        "            pred = output.logits.T[0].float()\n",
        "        else:\n",
        "            pred = output.T[0].float()\n",
        "\n",
        "    return pred\n",
        "\n",
        "def train_epoch(data_loader, model, use_metadata, loss_criterion, optimizer):\n",
        "    for i, sample in enumerate(data_loader, 0):\n",
        "        # inputs, labels = data\n",
        "        inputs = sample['image'].to(device)\n",
        "        labels = sample['score'].to(device)\n",
        "\n",
        "        # zero the parameter gradients\n",
        "        optimizer.zero_grad()\n",
        "\n",
        "        # forward + backward + optimize\n",
        "        if use_metadata:\n",
        "            metadata = sample['metadata'].to(device)\n",
        "            output = model(inputs, metadata)\n",
        "        else:\n",
        "            output = model(inputs)\n",
        "        predicted = predictions(model.name, loss_criterion, output)\n",
        "        print(predicted)\n",
        "        loss = loss_criterion['criterion'](predicted, labels)\n",
        "        # loss = criterion(predicted.float(), labels.float())\n",
        "        loss.backward()\n",
        "        optimizer.step()\n",
        "\n",
        "def evaluate_epoch(tr_loader, val_loader, te_loader, model, use_metadata, epoch, metric_labels, loss_criterion, criterions=[], stats=[], include_test=False, path=None):\n",
        "    def _get_metrics(loader):\n",
        "        correct, total = 0, 0\n",
        "        # batch_size defined during data loader creation, TODO: clean up\n",
        "        running_loss = []\n",
        "        for sample in loader:\n",
        "            with torch.no_grad():\n",
        "                inputs = sample['image'].to(device)\n",
        "                labels = sample['score']\n",
        "\n",
        "                if use_metadata:\n",
        "                    metadata = sample['metadata'].to(device)\n",
        "                    output = model(inputs, metadata)\n",
        "                else:\n",
        "                    output = model(inputs)\n",
        "                predicted = predictions(model.name, loss_criterion, output).cpu()\n",
        "                \n",
        "                total += labels.size(0)\n",
        "                # labels = labels.to(device)\n",
        "                # correct += (torch.abs(predicted - labels) < 5).sum().item()\n",
        "                correct += (predicted == labels).sum().item()\n",
        "                # print(predicted, labels)\n",
        "                # print(loss_criterion)\n",
        "                # print(loss_criterion(predicted, labels))\n",
        "                running_loss.append(loss_criterion['criterion'](predicted, labels))\n",
        "        loss = np.mean(running_loss)\n",
        "        # print(loss)\n",
        "        acc = correct / total\n",
        "        # mae = mean_absolute_error(predicted, labels.to(device)).item()\n",
        "        return [acc, loss]\n",
        "\n",
        "    train_stats = _get_metrics(tr_loader)\n",
        "    # print(f'Train Acc: {train_acc}, Loss: {train_loss}, AUC: {train_auc}')\n",
        "    val_stats = _get_metrics(val_loader)\n",
        "    # print(f'Val Acc: {val_acc}, Loss: {val_loss}, AUC: {val_auc}')\n",
        "\n",
        "    # stats_at_epoch = [\n",
        "    #     val_acc,\n",
        "    #     val_loss,\n",
        "    #     val_auc,\n",
        "    #     train_acc,\n",
        "    #     train_loss,\n",
        "    #     train_auc,\n",
        "    # ]\n",
        "    stats_at_epoch = []\n",
        "    stats_at_epoch.extend(train_stats)\n",
        "    stats_at_epoch.extend(val_stats)\n",
        "\n",
        "    if include_test:\n",
        "        stats_at_epoch.extend(_get_metrics(te_loader))\n",
        "\n",
        "    stats.append(stats_at_epoch)\n",
        "    # print(stats)\n",
        "    log_training(epoch, stats, metric_labels, path)\n",
        "    \n",
        "    return stats\n"
      ]
    },
    {
      "cell_type": "code",
      "execution_count": null,
      "metadata": {},
      "outputs": [
        {
          "name": "stdout",
          "output_type": "stream",
          "text": [
            "Training for resnet_meta_1\n",
            "tensor([0., 0., 0., 0., 0., 0., 0., 0., 0., 0., 0., 0., 0., 0., 0., 0., 0., 0., 0., 0., 0., 0., 0., 0.,\n",
            "        0., 0., 0., 0., 0., 0., 0., 0., 0., 0., 0., 0., 0., 0., 0., 0., 0., 0., 0., 0., 0., 0., 0., 0.,\n",
            "        0., 0., 0., 0., 0., 0., 0., 0., 0., 0., 0., 0., 0., 0., 0., 0.],\n",
            "       device='cuda:0')\n",
            "tensor([0., 0., 0., 0., 0., 0., 0., 0., 0., 0., 0., 0., 0., 0., 0., 0., 0., 0., 0., 0., 0., 0., 0., 0.,\n",
            "        0., 0., 0., 0., 0., 0., 0., 0., 0., 0., 0., 0., 0., 0., 0., 0., 0., 0., 0., 0., 0., 0., 0., 0.,\n",
            "        0., 0., 0., 0., 0., 0., 0., 0., 0., 0., 0., 0., 0., 0., 0., 0.],\n",
            "       device='cuda:0')\n",
            "tensor([0., 0., 0., 0., 0., 0., 0., 0., 0., 0., 0., 0., 0., 0., 0., 0., 0., 0., 0., 0., 0., 0., 0., 0.,\n",
            "        0., 0., 0., 0., 0., 0., 0., 0., 0., 0., 0., 0., 0., 0., 0., 0., 0., 0., 0., 0., 0., 0., 0., 0.,\n",
            "        0., 0., 0., 0., 0., 0., 0., 0., 0., 0., 0., 0., 0., 0., 0., 0.],\n",
            "       device='cuda:0')\n",
            "tensor([0., 0., 0., 0., 0., 0., 0., 0., 0., 0., 0., 0., 0., 0., 0., 0., 0., 0., 0., 0., 0., 0., 0., 0.,\n",
            "        0., 0., 0., 0., 0., 0., 0., 0., 0., 0., 0., 0., 0., 0., 0., 0., 0., 0., 0., 0., 0., 0., 0., 0.,\n",
            "        0., 0., 0., 0., 0., 0., 0., 0., 0., 0., 0., 0., 0., 0., 0., 0.],\n",
            "       device='cuda:0')\n",
            "tensor([0., 0., 0., 0., 0., 0., 0., 0., 0., 0., 0., 0., 0., 0., 0., 0., 0., 0., 0., 0., 0., 0., 0., 0.,\n",
            "        0., 0., 0., 0., 0., 0., 0., 0., 0., 0., 0., 0., 0., 0., 0., 0., 0., 0., 0., 0., 0., 0., 0., 0.,\n",
            "        0., 0., 0., 0., 0., 0., 0., 0., 0., 0., 0., 0., 0., 0., 0., 0.],\n",
            "       device='cuda:0')\n",
            "tensor([0., 0., 0., 0., 0., 0., 0., 0., 0., 0., 0., 0., 0., 0., 0., 0., 0., 0., 0., 0., 0., 0., 0., 0.,\n",
            "        0., 0., 0., 0., 0., 0., 0., 0., 0., 0., 0., 0., 0., 0., 0., 0., 0., 0., 0., 0., 0., 0., 0., 0.,\n",
            "        0., 0., 0., 0., 0., 0., 0., 0., 0., 0., 0., 0., 0., 0., 0., 0.],\n",
            "       device='cuda:0')\n",
            "tensor([0., 0., 0., 0., 0., 0., 0., 0., 0., 0., 0., 0., 0., 0., 0., 0., 0., 0., 0., 0., 0., 0., 0., 0.,\n",
            "        0., 0., 0., 0., 0., 0., 0., 0., 0., 0., 0., 0., 0., 0., 0., 0., 0., 0., 0., 0., 0., 0., 0., 0.,\n",
            "        0., 0., 0., 0., 0., 0., 0., 0., 0., 0., 0., 0., 0., 0., 0., 0.],\n",
            "       device='cuda:0')\n",
            "tensor([0., 0., 0., 0., 0., 0., 0., 0., 0., 0., 0., 0., 0., 0., 0., 0., 0., 0., 0., 0., 0., 0., 0., 0.,\n",
            "        0., 0., 0., 0., 0., 0., 0., 0., 0., 0., 0., 0., 0., 0., 0., 0., 0., 0., 0., 0., 0., 0., 0., 0.,\n",
            "        0., 0., 0., 0., 0., 0., 0., 0., 0., 0., 0., 0., 0., 0., 0., 0.],\n",
            "       device='cuda:0')\n",
            "tensor([0., 0., 0., 0., 0., 0., 0., 0., 0., 0., 0., 0., 0., 0., 0., 0., 0., 0., 0., 0., 0., 0., 0., 0.,\n",
            "        0., 0., 0., 0., 0., 0., 0., 0., 0., 0., 0., 0., 0., 0., 0., 0., 0., 0., 0., 0., 0., 0., 0., 0.,\n",
            "        0., 0., 0., 0., 0., 0., 0., 0., 0., 0., 0., 0., 0., 0., 0., 0.],\n",
            "       device='cuda:0')\n",
            "tensor([0., 0., 0., 0., 0., 0., 0., 0., 0., 0., 0., 0., 0., 0., 0., 0., 0., 0., 0., 0., 0., 0., 0., 0.,\n",
            "        0., 0., 0., 0., 0., 0., 0., 0., 0., 0., 0., 0., 0., 0., 0., 0., 0., 0., 0., 0., 0., 0., 0., 0.,\n",
            "        0., 0., 0., 0., 0., 0., 0., 0., 0., 0., 0., 0., 0., 0., 0., 0.],\n",
            "       device='cuda:0')\n",
            "tensor([0., 0., 0., 0., 0., 0., 0., 0., 0., 0., 0., 0., 0., 0., 0., 0., 0., 0., 0., 0., 0., 0., 0., 0.,\n",
            "        0., 0., 0., 0., 0., 0., 0., 0., 0., 0., 0., 0., 0., 0., 0., 0., 0., 0., 0., 0., 0., 0., 0., 0.,\n",
            "        0., 0., 0., 0., 0., 0., 0., 0., 0., 0., 0., 0., 0., 0., 0., 0.],\n",
            "       device='cuda:0')\n",
            "tensor([0., 0., 0., 0., 0., 0., 0., 0., 0., 0., 0., 0., 0., 0., 0., 0., 0., 0., 0., 0., 0., 0., 0., 0.,\n",
            "        0., 0., 0., 0., 0., 0., 0., 0., 0., 0., 0., 0., 0., 0., 0., 0., 0., 0., 0., 0., 0., 0., 0., 0.,\n",
            "        0., 0., 0., 0., 0., 0., 0., 0., 0., 0., 0., 0., 0., 0., 0., 0.],\n",
            "       device='cuda:0')\n",
            "tensor([0., 0., 0., 0., 0., 0., 0., 0., 0., 0., 0., 0., 0., 0., 0., 0., 0., 0., 0., 0., 0., 0., 0., 0.,\n",
            "        0., 0., 0., 0., 0., 0., 0., 0., 0., 0., 0., 0., 0., 0., 0., 0., 0., 0., 0., 0., 0., 0., 0., 0.,\n",
            "        0., 0., 0., 0., 0., 0., 0., 0., 0., 0., 0., 0., 0., 0., 0., 0.],\n",
            "       device='cuda:0')\n",
            "tensor([0., 0., 0., 0., 0., 0., 0., 0., 0., 0., 0., 0., 0., 0., 0., 0., 0., 0., 0., 0., 0., 0., 0., 0.,\n",
            "        0., 0., 0., 0., 0., 0., 0., 0., 0., 0., 0., 0., 0., 0., 0., 0., 0., 0., 0., 0., 0., 0., 0., 0.,\n",
            "        0., 0., 0., 0., 0., 0., 0., 0., 0., 0., 0., 0., 0., 0., 0., 0.],\n",
            "       device='cuda:0')\n",
            "tensor([0., 0., 0., 0., 0., 0., 0., 0., 0., 0., 0., 0., 0., 0., 0., 0., 0., 0., 0., 0., 0., 0., 0., 0.,\n",
            "        0., 0., 0., 0., 0., 0., 0., 0., 0., 0., 0., 0., 0., 0., 0., 0., 0., 0., 0., 0., 0., 0., 0., 0.,\n",
            "        0., 0., 0., 0., 0., 0., 0., 0., 0., 0., 0., 0., 0., 0., 0., 0.],\n",
            "       device='cuda:0')\n",
            "tensor([0., 0., 0., 0., 0., 0., 0., 0., 0., 0., 0., 0., 0., 0., 0., 0., 0., 0., 0., 0., 0., 0., 0., 0.,\n",
            "        0., 0., 0., 0., 0., 0., 0., 0., 0., 0., 0., 0., 0., 0., 0., 0., 0., 0., 0., 0., 0., 0., 0., 0.,\n",
            "        0., 0., 0., 0., 0., 0., 0., 0., 0., 0., 0., 0., 0., 0., 0., 0.],\n",
            "       device='cuda:0')\n",
            "tensor([0., 0., 0., 0., 0., 0., 0., 0., 0., 0., 0., 0., 0., 0., 0., 0., 0., 0., 0., 0., 0., 0., 0., 0.,\n",
            "        0., 0., 0., 0., 0., 0., 0., 0., 0., 0., 0., 0., 0., 0., 0., 0., 0., 0., 0., 0., 0., 0., 0., 0.,\n",
            "        0., 0., 0., 0., 0., 0., 0., 0., 0., 0., 0., 0., 0., 0., 0., 0.],\n",
            "       device='cuda:0')\n",
            "tensor([0., 0., 0., 0., 0., 0., 0., 0., 0., 0., 0., 0., 0., 0., 0., 0., 0., 0., 0., 0., 0., 0., 0., 0.,\n",
            "        0., 0., 0., 0., 0., 0., 0., 0., 0., 0., 0., 0., 0., 0., 0., 0., 0., 0., 0., 0., 0., 0., 0., 0.,\n",
            "        0., 0., 0., 0., 0., 0., 0., 0., 0., 0., 0., 0., 0., 0., 0., 0.],\n",
            "       device='cuda:0')\n",
            "tensor([0., 0., 0., 0., 0., 0., 0., 0., 0., 0., 0., 0., 0., 0., 0., 0., 0., 0., 0., 0., 0., 0., 0., 0.,\n",
            "        0., 0., 0., 0., 0., 0., 0., 0., 0., 0., 0., 0., 0., 0., 0., 0., 0., 0., 0., 0., 0., 0., 0., 0.,\n",
            "        0., 0., 0., 0., 0., 0., 0., 0., 0., 0., 0., 0., 0., 0., 0., 0.],\n",
            "       device='cuda:0')\n",
            "tensor([0., 0., 0., 0., 0., 0., 0., 0., 0., 0., 0., 0., 0., 0., 0., 0., 0., 0., 0., 0., 0., 0., 0., 0.,\n",
            "        0., 0., 0., 0., 0., 0., 0., 0., 0., 0., 0., 0., 0., 0., 0., 0., 0., 0., 0., 0., 0., 0., 0., 0.,\n",
            "        0., 0., 0., 0., 0., 0., 0., 0., 0., 0., 0., 0., 0., 0., 0., 0.],\n",
            "       device='cuda:0')\n",
            "tensor([0., 0., 0., 0., 0., 0., 0., 0., 0., 0., 0., 0., 0., 0., 0., 0., 0., 0., 0., 0., 0., 0., 0., 0.,\n",
            "        0., 0., 0., 0., 0., 0., 0., 0., 0., 0., 0., 0., 0., 0., 0., 0., 0., 0., 0., 0., 0., 0., 0., 0.,\n",
            "        0., 0., 0., 0., 0., 0., 0., 0., 0., 0., 0., 0., 0., 0., 0., 0.],\n",
            "       device='cuda:0')\n",
            "tensor([0., 0., 0., 0., 0., 0., 0., 0., 0., 0., 0., 0., 0., 0., 0., 0., 0., 0., 0., 0., 0., 0., 0., 0.,\n",
            "        0., 0., 0., 0., 0., 0., 0., 0., 0., 0., 0., 0., 0., 0., 0., 0., 0., 0., 0., 0., 0., 0., 0., 0.,\n",
            "        0., 0., 0., 0., 0., 0., 0., 0., 0., 0., 0., 0., 0., 0., 0., 0.],\n",
            "       device='cuda:0')\n",
            "tensor([0., 0., 0., 0., 0., 0., 0., 0., 0., 0., 0., 0., 0., 0., 0., 0., 0., 0., 0., 0., 0., 0., 0., 0.,\n",
            "        0., 0., 0., 0., 0., 0., 0., 0., 0., 0., 0., 0., 0., 0., 0., 0., 0., 0., 0., 0., 0., 0., 0., 0.,\n",
            "        0., 0., 0., 0., 0., 0., 0., 0., 0., 0., 0., 0., 0., 0., 0., 0.],\n",
            "       device='cuda:0')\n",
            "tensor([0., 0., 0., 0., 0., 0., 0., 0., 0., 0., 0., 0., 0., 0., 0., 0., 0., 0., 0., 0., 0., 0., 0., 0.,\n",
            "        0., 0., 0., 0., 0., 0., 0., 0., 0., 0., 0., 0., 0., 0., 0., 0., 0., 0., 0., 0., 0., 0., 0., 0.,\n",
            "        0., 0., 0., 0., 0., 0., 0., 0., 0., 0., 0., 0., 0., 0., 0., 0.],\n",
            "       device='cuda:0')\n",
            "tensor([0., 0., 0., 0., 0., 0., 0., 0., 0., 0., 0., 0., 0., 0., 0., 0., 0., 0., 0., 0., 0., 0., 0., 0.,\n",
            "        0., 0., 0., 0., 0., 0., 0., 0., 0., 0., 0., 0., 0., 0., 0., 0., 0., 0., 0., 0., 0., 0., 0., 0.,\n",
            "        0., 0., 0., 0., 0., 0., 0., 0., 0., 0., 0., 0., 0., 0., 0., 0.],\n",
            "       device='cuda:0')\n",
            "tensor([0., 0., 0., 0., 0., 0., 0., 0., 0., 0., 0., 0., 0., 0., 0., 0., 0., 0., 0., 0., 0., 0., 0., 0.,\n",
            "        0., 0., 0., 0., 0., 0., 0., 0., 0., 0., 0., 0., 0., 0., 0., 0., 0., 0., 0., 0., 0., 0., 0., 0.,\n",
            "        0., 0., 0., 0., 0., 0., 0., 0., 0., 0., 0., 0., 0., 0., 0., 0.],\n",
            "       device='cuda:0')\n",
            "tensor([0., 0., 0., 0., 0., 0., 0., 0., 0., 0., 0., 0., 0., 0., 0., 0., 0., 0., 0., 0., 0., 0., 0., 0.,\n",
            "        0., 0., 0., 0., 0., 0., 0., 0., 0., 0., 0., 0., 0., 0., 0., 0., 0., 0., 0., 0., 0., 0., 0., 0.,\n",
            "        0., 0., 0., 0., 0., 0., 0., 0., 0., 0., 0., 0., 0., 0., 0., 0.],\n",
            "       device='cuda:0')\n",
            "tensor([0., 0., 0., 0., 0., 0., 0., 0., 0., 0., 0., 0., 0., 0., 0., 0., 0., 0., 0., 0., 0., 0., 0., 0.,\n",
            "        0., 0., 0., 0., 0., 0., 0., 0., 0., 0., 0., 0., 0., 0., 0., 0., 0., 0., 0., 0., 0., 0., 0., 0.,\n",
            "        0., 0., 0., 0., 0., 0., 0., 0., 0., 0., 0., 0., 0., 0., 0., 0.],\n",
            "       device='cuda:0')\n",
            "tensor([0., 0., 0., 0., 0., 0., 0., 0., 0., 0., 0., 0., 0., 0., 0., 0., 0., 0., 0., 0., 0., 0., 0., 0.,\n",
            "        0., 0., 0., 0., 0., 0., 0., 0., 0., 0., 0., 0., 0., 0., 0., 0., 0., 0., 0., 0., 0., 0., 0., 0.,\n",
            "        0., 0., 0., 0., 0., 0., 0., 0., 0., 0., 0., 0., 0., 0., 0., 0.],\n",
            "       device='cuda:0')\n",
            "tensor([0., 0., 0., 0., 0., 0., 0., 0., 0., 0., 0., 0., 0., 0., 0., 0., 0., 0., 0., 0., 0., 0., 0., 0.,\n",
            "        0., 0., 0., 0., 0., 0., 0., 0., 0., 0., 0., 0., 0., 0., 0., 0., 0., 0., 0., 0., 0., 0., 0., 0.,\n",
            "        0., 0., 0., 0., 0., 0., 0., 0., 0., 0., 0., 0., 0., 0., 0., 0.],\n",
            "       device='cuda:0')\n",
            "tensor([0., 0., 0., 0., 0., 0., 0., 0., 0., 0., 0., 0., 0., 0., 0., 0., 0., 0., 0., 0., 0., 0., 0., 0.,\n",
            "        0., 0., 0., 0., 0., 0., 0., 0., 0., 0., 0., 0., 0., 0., 0., 0., 0., 0., 0., 0., 0., 0., 0., 0.,\n",
            "        0., 0., 0., 0., 0., 0., 0., 0., 0., 0., 0., 0., 0., 0., 0., 0.],\n",
            "       device='cuda:0')\n",
            "tensor([0., 0., 0., 0., 0., 0., 0., 0., 0., 0., 0., 0., 0., 0., 0., 0., 0., 0., 0., 0., 0., 0., 0., 0.,\n",
            "        0., 0., 0., 0., 0., 0., 0., 0., 0., 0., 0., 0., 0., 0., 0., 0., 0., 0., 0., 0., 0., 0., 0., 0.,\n",
            "        0., 0., 0., 0., 0., 0., 0., 0., 0., 0., 0., 0., 0., 0., 0., 0.],\n",
            "       device='cuda:0')\n",
            "tensor([0., 0., 0., 0., 0., 0., 0., 0., 0., 0., 0., 0., 0., 0., 0., 0., 0., 0., 0., 0., 0., 0., 0., 0.,\n",
            "        0., 0., 0., 0., 0., 0., 0., 0., 0., 0., 0., 0., 0., 0., 0., 0., 0., 0., 0., 0., 0., 0., 0., 0.,\n",
            "        0., 0., 0., 0., 0., 0., 0., 0., 0., 0., 0., 0., 0., 0., 0., 0.],\n",
            "       device='cuda:0')\n",
            "tensor([0., 0., 0., 0., 0., 0., 0., 0., 0., 0., 0., 0., 0., 0., 0., 0., 0., 0., 0., 0., 0., 0., 0., 0.,\n",
            "        0., 0., 0., 0., 0., 0., 0., 0., 0., 0., 0., 0., 0., 0., 0., 0., 0., 0., 0., 0., 0., 0., 0., 0.,\n",
            "        0., 0., 0., 0., 0., 0., 0., 0., 0., 0., 0., 0., 0., 0., 0., 0.],\n",
            "       device='cuda:0')\n",
            "tensor([0., 0., 0., 0., 0., 0., 0., 0., 0., 0., 0., 0., 0., 0., 0., 0., 0., 0., 0., 0., 0., 0., 0., 0.,\n",
            "        0., 0., 0., 0., 0., 0., 0., 0., 0., 0., 0., 0., 0., 0., 0., 0., 0., 0., 0., 0., 0., 0., 0., 0.,\n",
            "        0., 0., 0., 0., 0., 0., 0., 0., 0., 0., 0., 0., 0., 0., 0., 0.],\n",
            "       device='cuda:0')\n",
            "tensor([0., 0., 0., 0., 0., 0., 0., 0., 0., 0., 0., 0., 0., 0., 0., 0., 0., 0., 0., 0., 0., 0., 0., 0.,\n",
            "        0., 0., 0., 0., 0., 0., 0., 0., 0., 0., 0., 0., 0., 0., 0., 0., 0., 0., 0., 0., 0., 0., 0., 0.,\n",
            "        0., 0., 0., 0., 0., 0., 0., 0., 0., 0., 0., 0., 0., 0., 0., 0.],\n",
            "       device='cuda:0')\n",
            "tensor([0., 0., 0., 0., 0., 0., 0., 0., 0., 0., 0., 0., 0., 0., 0., 0., 0., 0., 0., 0., 0., 0., 0., 0.,\n",
            "        0., 0., 0., 0., 0., 0., 0., 0., 0., 0., 0., 0., 0., 0., 0., 0., 0., 0., 0., 0., 0., 0., 0., 0.,\n",
            "        0., 0., 0., 0., 0., 0., 0., 0., 0., 0., 0., 0., 0., 0., 0., 0.],\n",
            "       device='cuda:0')\n",
            "tensor([0., 0., 0., 0., 0., 0., 0., 0., 0., 0., 0., 0., 0., 0., 0., 0., 0., 0., 0., 0., 0., 0., 0., 0.,\n",
            "        0., 0., 0., 0., 0., 0., 0., 0., 0., 0., 0., 0., 0., 0., 0., 0., 0., 0., 0., 0., 0., 0., 0., 0.,\n",
            "        0., 0., 0., 0., 0., 0., 0., 0., 0., 0., 0., 0., 0., 0., 0., 0.],\n",
            "       device='cuda:0')\n",
            "tensor([0., 0., 0., 0., 0., 0., 0., 0., 0., 0., 0., 0., 0., 0., 0., 0., 0., 0., 0., 0., 0., 0., 0., 0.,\n",
            "        0., 0., 0., 0., 0., 0., 0., 0., 0., 0., 0., 0., 0., 0., 0., 0., 0., 0., 0., 0., 0., 0., 0., 0.,\n",
            "        0., 0., 0., 0., 0., 0., 0., 0., 0., 0., 0., 0., 0., 0., 0., 0.],\n",
            "       device='cuda:0')\n",
            "tensor([0., 0., 0., 0., 0., 0., 0., 0., 0., 0., 0., 0., 0., 0., 0., 0., 0., 0., 0., 0., 0., 0., 0., 0.,\n",
            "        0., 0., 0., 0., 0., 0., 0., 0., 0., 0., 0., 0., 0., 0., 0., 0., 0., 0., 0., 0., 0., 0., 0., 0.,\n",
            "        0., 0., 0., 0., 0., 0., 0., 0., 0., 0., 0., 0., 0., 0., 0., 0.],\n",
            "       device='cuda:0')\n",
            "tensor([0., 0., 0., 0., 0., 0., 0., 0., 0., 0., 0., 0., 0., 0., 0., 0., 0., 0., 0., 0., 0., 0., 0., 0.,\n",
            "        0., 0., 0., 0., 0., 0., 0., 0., 0., 0., 0., 0., 0., 0., 0., 0., 0., 0., 0., 0., 0., 0., 0., 0.,\n",
            "        0., 0., 0., 0., 0., 0., 0., 0., 0., 0., 0., 0., 0., 0., 0., 0.],\n",
            "       device='cuda:0')\n",
            "tensor([0., 0., 0., 0., 0., 0., 0., 0., 0., 0., 0., 0., 0., 0., 0., 0., 0., 0., 0., 0., 0., 0., 0., 0.,\n",
            "        0., 0., 0., 0., 0., 0., 0., 0., 0., 0., 0., 0., 0., 0., 0., 0., 0., 0., 0., 0., 0., 0., 0., 0.,\n",
            "        0., 0., 0., 0., 0., 0., 0., 0., 0., 0., 0., 0., 0., 0., 0., 0.],\n",
            "       device='cuda:0')\n",
            "tensor([0., 0., 0., 0., 0., 0., 0., 0., 0., 0., 0., 0., 0., 0., 0., 0., 0., 0., 0., 0., 0., 0., 0., 0.,\n",
            "        0., 0., 0., 0., 0., 0., 0., 0., 0., 0., 0., 0., 0., 0., 0., 0., 0., 0., 0., 0., 0., 0., 0., 0.,\n",
            "        0., 0., 0., 0., 0., 0., 0., 0., 0., 0., 0., 0., 0., 0., 0., 0.],\n",
            "       device='cuda:0')\n",
            "tensor([0., 0., 0., 0., 0., 0., 0., 0., 0., 0., 0., 0., 0., 0., 0., 0., 0., 0., 0., 0., 0., 0., 0., 0.,\n",
            "        0., 0., 0., 0., 0., 0., 0., 0., 0., 0., 0., 0., 0., 0., 0., 0., 0., 0., 0., 0., 0., 0., 0., 0.,\n",
            "        0., 0., 0., 0., 0., 0., 0., 0., 0., 0., 0., 0., 0., 0., 0., 0.],\n",
            "       device='cuda:0')\n",
            "tensor([0., 0., 0., 0., 0., 0., 0., 0., 0., 0., 0., 0., 0., 0., 0., 0., 0., 0., 0., 0., 0., 0., 0., 0.,\n",
            "        0., 0., 0., 0., 0., 0., 0., 0., 0., 0., 0., 0., 0., 0., 0., 0., 0., 0., 0., 0., 0., 0., 0., 0.,\n",
            "        0., 0., 0., 0., 0., 0., 0., 0., 0., 0., 0., 0., 0., 0., 0., 0.],\n",
            "       device='cuda:0')\n",
            "tensor([0., 0., 0., 0., 0., 0., 0., 0., 0., 0., 0., 0., 0., 0., 0., 0., 0., 0., 0., 0., 0., 0., 0., 0.,\n",
            "        0., 0., 0., 0., 0., 0., 0., 0., 0., 0., 0., 0., 0., 0., 0., 0., 0., 0., 0., 0., 0., 0., 0., 0.,\n",
            "        0., 0., 0., 0., 0., 0., 0., 0., 0., 0., 0., 0., 0., 0., 0., 0.],\n",
            "       device='cuda:0')\n",
            "tensor([0., 0., 0., 0., 0., 0., 0., 0., 0., 0., 0., 0., 0., 0., 0., 0., 0., 0., 0., 0., 0., 0., 0., 0.,\n",
            "        0., 0., 0., 0., 0., 0., 0., 0., 0., 0., 0., 0., 0., 0., 0., 0., 0., 0., 0., 0., 0., 0., 0., 0.,\n",
            "        0., 0., 0., 0., 0., 0., 0., 0., 0., 0., 0., 0., 0., 0., 0., 0.],\n",
            "       device='cuda:0')\n",
            "tensor([0., 0., 0., 0., 0., 0., 0., 0., 0., 0., 0., 0., 0., 0., 0., 0., 0., 0., 0., 0., 0., 0., 0., 0.,\n",
            "        0., 0., 0., 0., 0., 0., 0., 0., 0., 0., 0., 0., 0., 0., 0., 0., 0., 0., 0., 0., 0., 0., 0., 0.,\n",
            "        0., 0., 0., 0., 0., 0., 0., 0., 0., 0., 0., 0., 0., 0., 0., 0.],\n",
            "       device='cuda:0')\n",
            "tensor([0., 0., 0., 0., 0., 0., 0., 0., 0., 0., 0., 0., 0., 0., 0., 0., 0., 0., 0., 0., 0., 0., 0., 0.,\n",
            "        0., 0., 0., 0., 0., 0., 0., 0., 0., 0., 0., 0., 0., 0., 0., 0., 0., 0., 0., 0., 0., 0., 0., 0.,\n",
            "        0., 0., 0., 0., 0., 0., 0., 0., 0., 0., 0., 0., 0., 0., 0., 0.],\n",
            "       device='cuda:0')\n",
            "tensor([0., 0., 0., 0., 0., 0., 0., 0., 0., 0., 0., 0., 0., 0., 0., 0., 0., 0., 0., 0., 0., 0., 0., 0.,\n",
            "        0., 0., 0., 0., 0., 0., 0., 0., 0., 0., 0., 0., 0., 0., 0., 0., 0., 0., 0., 0., 0., 0., 0., 0.,\n",
            "        0., 0., 0., 0., 0., 0., 0., 0., 0., 0., 0., 0., 0., 0., 0., 0.],\n",
            "       device='cuda:0')\n",
            "tensor([0., 0., 0., 0., 0., 0., 0., 0., 0., 0., 0., 0., 0., 0., 0., 0., 0., 0., 0., 0., 0., 0., 0., 0.,\n",
            "        0., 0., 0., 0., 0., 0., 0., 0., 0., 0., 0., 0., 0., 0., 0., 0., 0., 0., 0., 0., 0., 0., 0., 0.,\n",
            "        0., 0., 0., 0., 0., 0., 0., 0., 0., 0., 0., 0., 0., 0., 0., 0.],\n",
            "       device='cuda:0')\n",
            "tensor([0., 0., 0., 0., 0., 0., 0., 0., 0., 0., 0., 0., 0., 0., 0., 0., 0., 0., 0., 0., 0., 0., 0., 0.,\n",
            "        0., 0., 0., 0., 0., 0., 0., 0., 0., 0., 0., 0., 0., 0., 0., 0., 0., 0., 0., 0., 0., 0., 0., 0.,\n",
            "        0., 0., 0., 0., 0., 0., 0., 0., 0., 0., 0., 0., 0., 0., 0., 0.],\n",
            "       device='cuda:0')\n",
            "tensor([0., 0., 0., 0., 0., 0., 0., 0., 0., 0., 0., 0., 0., 0., 0., 0., 0., 0., 0., 0., 0., 0., 0., 0.,\n",
            "        0., 0., 0., 0., 0., 0., 0., 0., 0., 0., 0., 0., 0., 0., 0., 0., 0., 0., 0., 0., 0., 0., 0., 0.,\n",
            "        0., 0., 0., 0., 0., 0., 0., 0., 0., 0., 0., 0., 0., 0., 0., 0.],\n",
            "       device='cuda:0')\n",
            "tensor([0., 0., 0., 0., 0., 0., 0., 0., 0., 0., 0., 0., 0., 0., 0., 0., 0., 0., 0., 0., 0., 0., 0., 0.,\n",
            "        0., 0., 0., 0., 0., 0., 0., 0., 0., 0., 0., 0., 0., 0., 0., 0., 0., 0., 0., 0., 0., 0., 0., 0.,\n",
            "        0., 0., 0., 0., 0., 0., 0., 0., 0., 0., 0., 0., 0., 0., 0., 0.],\n",
            "       device='cuda:0')\n",
            "tensor([0., 0., 0., 0., 0., 0., 0., 0., 0., 0., 0., 0., 0., 0., 0., 0., 0., 0., 0., 0., 0., 0., 0., 0.,\n",
            "        0., 0., 0., 0., 0., 0., 0., 0., 0., 0., 0., 0., 0., 0., 0., 0., 0., 0., 0., 0., 0., 0., 0., 0.,\n",
            "        0., 0., 0., 0., 0., 0., 0., 0., 0., 0., 0., 0., 0., 0., 0., 0.],\n",
            "       device='cuda:0')\n",
            "tensor([0., 0., 0., 0., 0., 0., 0., 0., 0., 0., 0., 0., 0., 0., 0., 0., 0., 0., 0., 0., 0., 0., 0., 0.,\n",
            "        0., 0., 0., 0., 0., 0., 0., 0., 0., 0., 0., 0., 0., 0., 0., 0., 0., 0., 0., 0., 0., 0., 0., 0.,\n",
            "        0., 0., 0., 0., 0., 0., 0., 0., 0., 0., 0., 0., 0., 0., 0., 0.],\n",
            "       device='cuda:0')\n",
            "tensor([0., 0., 0., 0., 0., 0., 0., 0., 0., 0., 0., 0., 0., 0., 0., 0., 0., 0., 0., 0., 0., 0., 0., 0.,\n",
            "        0., 0., 0., 0., 0., 0., 0., 0., 0., 0., 0., 0., 0., 0., 0., 0., 0., 0., 0., 0., 0., 0., 0., 0.,\n",
            "        0., 0., 0., 0., 0., 0., 0., 0., 0., 0., 0., 0., 0., 0., 0., 0.],\n",
            "       device='cuda:0')\n",
            "tensor([0., 0., 0., 0., 0., 0., 0., 0., 0., 0., 0., 0., 0., 0., 0., 0., 0., 0., 0., 0., 0., 0., 0., 0.,\n",
            "        0., 0., 0., 0., 0., 0., 0., 0., 0., 0., 0., 0., 0., 0., 0., 0., 0., 0., 0., 0., 0., 0., 0., 0.,\n",
            "        0., 0., 0., 0., 0., 0., 0., 0., 0., 0., 0., 0., 0., 0., 0., 0.],\n",
            "       device='cuda:0')\n",
            "tensor([0., 0., 0., 0., 0., 0., 0., 0., 0., 0., 0., 0., 0., 0., 0., 0., 0., 0., 0., 0., 0., 0., 0., 0.,\n",
            "        0., 0., 0., 0., 0., 0., 0., 0., 0., 0., 0., 0., 0., 0., 0., 0., 0., 0., 0., 0., 0., 0., 0., 0.,\n",
            "        0., 0., 0., 0., 0., 0., 0., 0., 0., 0., 0., 0., 0., 0., 0., 0.],\n",
            "       device='cuda:0')\n",
            "tensor([0., 0., 0., 0., 0., 0., 0., 0., 0., 0., 0., 0., 0., 0., 0., 0., 0., 0., 0., 0., 0., 0., 0., 0.,\n",
            "        0., 0., 0., 0., 0., 0., 0., 0., 0., 0., 0., 0., 0., 0., 0., 0., 0., 0., 0., 0., 0., 0., 0., 0.,\n",
            "        0., 0., 0., 0., 0., 0., 0., 0., 0., 0., 0., 0., 0., 0., 0., 0.],\n",
            "       device='cuda:0')\n",
            "tensor([0., 0., 0., 0., 0., 0., 0., 0., 0., 0., 0., 0., 0., 0., 0., 0., 0., 0., 0., 0., 0., 0., 0., 0.,\n",
            "        0., 0., 0., 0., 0., 0., 0., 0., 0., 0., 0., 0., 0., 0., 0., 0., 0., 0., 0., 0., 0., 0., 0., 0.,\n",
            "        0., 0., 0., 0., 0., 0., 0., 0., 0., 0., 0., 0., 0., 0., 0., 0.],\n",
            "       device='cuda:0')\n",
            "tensor([0., 0., 0., 0., 0., 0., 0., 0., 0., 0., 0., 0., 0., 0., 0., 0., 0., 0., 0., 0., 0., 0., 0., 0.,\n",
            "        0., 0., 0., 0., 0., 0., 0., 0., 0., 0., 0., 0., 0., 0., 0., 0., 0., 0., 0., 0., 0., 0., 0., 0.,\n",
            "        0., 0., 0., 0., 0., 0., 0., 0., 0., 0., 0., 0., 0., 0., 0., 0.],\n",
            "       device='cuda:0')\n",
            "tensor([0., 0., 0., 0., 0., 0., 0., 0., 0., 0., 0., 0., 0., 0., 0., 0., 0., 0., 0., 0., 0., 0., 0., 0.,\n",
            "        0., 0., 0., 0., 0., 0., 0., 0., 0., 0., 0., 0., 0., 0., 0., 0., 0., 0., 0., 0., 0., 0., 0., 0.,\n",
            "        0., 0., 0., 0., 0., 0., 0., 0., 0., 0., 0., 0., 0., 0., 0., 0.],\n",
            "       device='cuda:0')\n",
            "tensor([0., 0., 0., 0., 0., 0., 0., 0., 0., 0., 0., 0., 0., 0., 0., 0., 0., 0., 0., 0., 0., 0., 0., 0.,\n",
            "        0., 0., 0., 0., 0., 0., 0., 0., 0., 0., 0., 0., 0., 0., 0., 0., 0., 0., 0., 0., 0., 0., 0., 0.,\n",
            "        0., 0., 0., 0., 0., 0., 0., 0., 0., 0., 0., 0., 0., 0., 0., 0.],\n",
            "       device='cuda:0')\n",
            "tensor([0., 0., 0., 0., 0., 0., 0., 0., 0., 0., 0., 0., 0., 0., 0., 0., 0., 0., 0., 0., 0., 0., 0., 0.,\n",
            "        0., 0., 0., 0., 0., 0., 0., 0., 0., 0., 0., 0., 0., 0., 0., 0., 0., 0., 0., 0., 0., 0., 0., 0.,\n",
            "        0., 0., 0., 0., 0., 0., 0., 0., 0., 0., 0., 0., 0., 0., 0., 0.],\n",
            "       device='cuda:0')\n",
            "tensor([0., 0., 0., 0., 0., 0., 0., 0., 0., 0., 0., 0., 0., 0., 0., 0., 0., 0., 0., 0., 0., 0., 0., 0.,\n",
            "        0., 0., 0., 0., 0., 0., 0., 0., 0., 0., 0., 0., 0., 0., 0., 0., 0., 0., 0., 0., 0., 0., 0., 0.,\n",
            "        0., 0., 0., 0., 0., 0., 0., 0., 0., 0., 0., 0., 0., 0., 0., 0.],\n",
            "       device='cuda:0')\n",
            "tensor([0., 0., 0., 0., 0., 0., 0., 0., 0., 0., 0., 0., 0., 0., 0., 0., 0., 0., 0., 0., 0., 0., 0., 0.,\n",
            "        0., 0., 0., 0., 0., 0., 0., 0., 0., 0., 0., 0., 0., 0., 0., 0., 0., 0., 0., 0., 0., 0., 0., 0.,\n",
            "        0., 0., 0., 0., 0., 0., 0., 0., 0., 0., 0., 0., 0., 0., 0., 0.],\n",
            "       device='cuda:0')\n",
            "tensor([0., 0., 0., 0., 0., 0., 0., 0., 0., 0., 0., 0., 0., 0., 0., 0., 0., 0., 0., 0., 0., 0., 0., 0.,\n",
            "        0., 0., 0., 0., 0., 0., 0., 0., 0., 0., 0., 0., 0., 0., 0., 0., 0., 0., 0., 0., 0., 0., 0., 0.,\n",
            "        0., 0., 0., 0., 0., 0., 0., 0., 0., 0., 0., 0., 0., 0., 0., 0.],\n",
            "       device='cuda:0')\n",
            "tensor([0., 0., 0., 0., 0., 0., 0., 0., 0., 0., 0., 0., 0., 0., 0., 0., 0., 0., 0., 0., 0., 0., 0., 0.,\n",
            "        0., 0., 0., 0., 0., 0., 0., 0., 0., 0., 0., 0., 0., 0., 0., 0., 0., 0., 0., 0., 0., 0., 0., 0.,\n",
            "        0., 0., 0., 0., 0., 0., 0., 0., 0., 0., 0., 0., 0., 0., 0., 0.],\n",
            "       device='cuda:0')\n",
            "tensor([0., 0., 0., 0., 0., 0., 0., 0., 0., 0., 0., 0., 0., 0., 0., 0., 0., 0., 0., 0., 0., 0., 0., 0.,\n",
            "        0., 0., 0., 0., 0., 0., 0., 0., 0., 0., 0., 0., 0., 0., 0., 0., 0., 0., 0., 0., 0., 0., 0., 0.,\n",
            "        0., 0., 0., 0., 0., 0., 0., 0., 0., 0., 0., 0., 0., 0., 0., 0.],\n",
            "       device='cuda:0')\n",
            "tensor([0., 0., 0., 0., 0., 0., 0., 0., 0., 0., 0., 0., 0., 0., 0., 0., 0., 0., 0., 0., 0., 0., 0., 0.,\n",
            "        0., 0., 0., 0., 0., 0., 0., 0., 0., 0., 0., 0., 0., 0., 0., 0., 0., 0., 0., 0., 0., 0., 0., 0.,\n",
            "        0., 0., 0., 0., 0., 0., 0., 0., 0., 0., 0., 0., 0., 0., 0., 0.],\n",
            "       device='cuda:0')\n",
            "tensor([0., 0., 0., 0., 0., 0., 0., 0., 0., 0., 0., 0., 0., 0., 0., 0., 0., 0., 0., 0., 0., 0., 0., 0.,\n",
            "        0., 0., 0., 0., 0., 0., 0., 0., 0., 0., 0., 0., 0., 0., 0., 0., 0., 0., 0., 0., 0., 0., 0., 0.,\n",
            "        0., 0., 0., 0., 0., 0., 0., 0., 0., 0., 0., 0., 0., 0., 0., 0.],\n",
            "       device='cuda:0')\n",
            "tensor([0., 0., 0., 0., 0., 0., 0., 0., 0., 0., 0., 0., 0., 0., 0., 0., 0., 0., 0., 0., 0., 0., 0., 0.,\n",
            "        0., 0., 0., 0., 0., 0., 0., 0., 0., 0., 0., 0., 0., 0., 0., 0., 0., 0., 0., 0., 0., 0., 0., 0.,\n",
            "        0., 0., 0., 0., 0., 0., 0., 0., 0., 0., 0., 0., 0., 0., 0., 0.],\n",
            "       device='cuda:0')\n",
            "tensor([0., 0., 0., 0., 0., 0., 0., 0., 0., 0., 0., 0., 0., 0., 0., 0., 0., 0., 0., 0., 0., 0., 0., 0.,\n",
            "        0., 0., 0., 0., 0., 0., 0., 0., 0., 0., 0., 0., 0., 0., 0., 0., 0., 0., 0., 0., 0., 0., 0., 0.,\n",
            "        0., 0., 0., 0., 0., 0., 0., 0., 0., 0., 0., 0., 0., 0., 0., 0.],\n",
            "       device='cuda:0')\n",
            "tensor([0., 0., 0., 0., 0., 0., 0., 0., 0., 0., 0., 0., 0., 0., 0., 0., 0., 0., 0., 0., 0., 0., 0., 0.,\n",
            "        0., 0., 0., 0., 0., 0., 0., 0., 0., 0., 0., 0., 0., 0., 0., 0., 0., 0., 0., 0., 0., 0., 0., 0.,\n",
            "        0., 0., 0., 0., 0., 0., 0., 0., 0., 0., 0., 0., 0., 0., 0., 0.],\n",
            "       device='cuda:0')\n",
            "tensor([0., 0., 0., 0., 0., 0., 0., 0., 0., 0., 0., 0., 0., 0., 0., 0., 0., 0., 0., 0., 0., 0., 0., 0.,\n",
            "        0., 0., 0., 0., 0., 0., 0., 0., 0., 0., 0., 0., 0., 0., 0., 0., 0., 0., 0., 0., 0., 0., 0., 0.,\n",
            "        0., 0., 0., 0., 0., 0., 0., 0., 0., 0., 0., 0., 0., 0., 0., 0.],\n",
            "       device='cuda:0')\n",
            "tensor([0., 0., 0., 0., 0., 0., 0., 0., 0., 0., 0., 0., 0., 0., 0., 0., 0., 0., 0., 0., 0., 0., 0., 0.,\n",
            "        0., 0., 0., 0., 0., 0., 0., 0., 0., 0., 0., 0., 0., 0., 0., 0., 0., 0., 0., 0., 0., 0., 0., 0.,\n",
            "        0., 0., 0., 0., 0., 0., 0., 0., 0., 0., 0., 0., 0., 0., 0., 0.],\n",
            "       device='cuda:0')\n",
            "tensor([0., 0., 0., 0., 0., 0., 0., 0., 0., 0., 0., 0., 0., 0., 0., 0., 0., 0., 0., 0., 0., 0., 0., 0.,\n",
            "        0., 0., 0., 0., 0., 0., 0., 0., 0., 0., 0., 0., 0., 0., 0., 0., 0., 0., 0., 0., 0., 0., 0., 0.,\n",
            "        0., 0., 0., 0., 0., 0., 0., 0., 0., 0., 0., 0., 0., 0., 0., 0.],\n",
            "       device='cuda:0')\n",
            "tensor([0., 0., 0., 0., 0., 0., 0., 0., 0., 0., 0., 0., 0., 0., 0., 0., 0., 0., 0., 0., 0., 0., 0., 0.,\n",
            "        0., 0., 0., 0., 0., 0., 0., 0., 0., 0., 0., 0., 0., 0., 0., 0., 0., 0., 0., 0., 0., 0., 0., 0.,\n",
            "        0., 0., 0., 0., 0., 0., 0., 0., 0., 0., 0., 0., 0., 0., 0., 0.],\n",
            "       device='cuda:0')\n",
            "tensor([0., 0., 0., 0., 0., 0., 0., 0., 0., 0., 0., 0., 0., 0., 0., 0., 0., 0., 0., 0., 0., 0., 0., 0.,\n",
            "        0., 0., 0., 0., 0., 0., 0., 0., 0., 0., 0., 0., 0., 0., 0., 0., 0., 0., 0., 0., 0., 0., 0., 0.,\n",
            "        0., 0., 0., 0., 0., 0., 0., 0., 0., 0., 0., 0., 0., 0., 0., 0.],\n",
            "       device='cuda:0')\n",
            "tensor([0., 0., 0., 0., 0., 0., 0., 0., 0., 0., 0., 0., 0., 0., 0., 0., 0., 0., 0., 0., 0., 0., 0., 0.,\n",
            "        0., 0., 0., 0., 0., 0., 0., 0., 0., 0., 0., 0., 0., 0., 0., 0., 0., 0., 0., 0., 0., 0., 0., 0.,\n",
            "        0., 0., 0., 0., 0., 0., 0., 0., 0., 0., 0., 0., 0., 0., 0., 0.],\n",
            "       device='cuda:0')\n",
            "tensor([0., 0., 0., 0., 0., 0., 0., 0., 0., 0., 0., 0., 0., 0., 0., 0., 0., 0., 0., 0., 0., 0., 0., 0.,\n",
            "        0., 0., 0., 0., 0., 0., 0., 0., 0., 0., 0., 0., 0., 0., 0., 0., 0., 0., 0., 0., 0., 0., 0., 0.,\n",
            "        0., 0., 0., 0., 0., 0., 0., 0., 0., 0., 0., 0., 0., 0., 0., 0.],\n",
            "       device='cuda:0')\n"
          ]
        },
        {
          "ename": "KeyboardInterrupt",
          "evalue": "",
          "output_type": "error",
          "traceback": [
            "\u001b[0;31m---------------------------------------------------------------------------\u001b[0m",
            "\u001b[0;31mKeyboardInterrupt\u001b[0m                         Traceback (most recent call last)",
            "\u001b[1;32m/home/elandg/ml/Pawpularity/pawpularity.ipynb Cell 35\u001b[0m in \u001b[0;36m<cell line: 18>\u001b[0;34m()\u001b[0m\n\u001b[1;32m     <a href='vscode-notebook-cell://wsl%2Bubuntu/home/elandg/ml/Pawpularity/pawpularity.ipynb#X46sdnNjb2RlLXJlbW90ZQ%3D%3D?line=15'>16</a>\u001b[0m stats \u001b[39m=\u001b[39m []\n\u001b[1;32m     <a href='vscode-notebook-cell://wsl%2Bubuntu/home/elandg/ml/Pawpularity/pawpularity.ipynb#X46sdnNjb2RlLXJlbW90ZQ%3D%3D?line=16'>17</a>\u001b[0m include_test \u001b[39m=\u001b[39m \u001b[39mFalse\u001b[39;00m\n\u001b[0;32m---> <a href='vscode-notebook-cell://wsl%2Bubuntu/home/elandg/ml/Pawpularity/pawpularity.ipynb#X46sdnNjb2RlLXJlbW90ZQ%3D%3D?line=17'>18</a>\u001b[0m stats \u001b[39m=\u001b[39m evaluate_epoch(tr_loader, val_loader, te_loader, net, use_metadata, epoch, metric_labels, loss_criterion, criterions\u001b[39m=\u001b[39;49mcriterions, stats\u001b[39m=\u001b[39;49mstats, include_test\u001b[39m=\u001b[39;49minclude_test, path\u001b[39m=\u001b[39;49mMODEL_STATS_PATH)\n\u001b[1;32m     <a href='vscode-notebook-cell://wsl%2Bubuntu/home/elandg/ml/Pawpularity/pawpularity.ipynb#X46sdnNjb2RlLXJlbW90ZQ%3D%3D?line=18'>19</a>\u001b[0m epoch \u001b[39m+\u001b[39m\u001b[39m=\u001b[39m \u001b[39m1\u001b[39m\n\u001b[1;32m     <a href='vscode-notebook-cell://wsl%2Bubuntu/home/elandg/ml/Pawpularity/pawpularity.ipynb#X46sdnNjb2RlLXJlbW90ZQ%3D%3D?line=19'>20</a>\u001b[0m global_min_loss \u001b[39m=\u001b[39m stats[\u001b[39m0\u001b[39m][\u001b[39m1\u001b[39m] \u001b[39m# starting val loss\u001b[39;00m\n",
            "\u001b[1;32m/home/elandg/ml/Pawpularity/pawpularity.ipynb Cell 35\u001b[0m in \u001b[0;36mevaluate_epoch\u001b[0;34m(tr_loader, val_loader, te_loader, model, use_metadata, epoch, metric_labels, loss_criterion, criterions, stats, include_test, path)\u001b[0m\n\u001b[1;32m    <a href='vscode-notebook-cell://wsl%2Bubuntu/home/elandg/ml/Pawpularity/pawpularity.ipynb#X46sdnNjb2RlLXJlbW90ZQ%3D%3D?line=138'>139</a>\u001b[0m     \u001b[39m# mae = mean_absolute_error(predicted, labels.to(device)).item()\u001b[39;00m\n\u001b[1;32m    <a href='vscode-notebook-cell://wsl%2Bubuntu/home/elandg/ml/Pawpularity/pawpularity.ipynb#X46sdnNjb2RlLXJlbW90ZQ%3D%3D?line=139'>140</a>\u001b[0m     \u001b[39mreturn\u001b[39;00m [acc, loss]\n\u001b[0;32m--> <a href='vscode-notebook-cell://wsl%2Bubuntu/home/elandg/ml/Pawpularity/pawpularity.ipynb#X46sdnNjb2RlLXJlbW90ZQ%3D%3D?line=141'>142</a>\u001b[0m train_stats \u001b[39m=\u001b[39m _get_metrics(tr_loader)\n\u001b[1;32m    <a href='vscode-notebook-cell://wsl%2Bubuntu/home/elandg/ml/Pawpularity/pawpularity.ipynb#X46sdnNjb2RlLXJlbW90ZQ%3D%3D?line=142'>143</a>\u001b[0m \u001b[39m# print(f'Train Acc: {train_acc}, Loss: {train_loss}, AUC: {train_auc}')\u001b[39;00m\n\u001b[1;32m    <a href='vscode-notebook-cell://wsl%2Bubuntu/home/elandg/ml/Pawpularity/pawpularity.ipynb#X46sdnNjb2RlLXJlbW90ZQ%3D%3D?line=143'>144</a>\u001b[0m val_stats \u001b[39m=\u001b[39m _get_metrics(val_loader)\n",
            "\u001b[1;32m/home/elandg/ml/Pawpularity/pawpularity.ipynb Cell 35\u001b[0m in \u001b[0;36mevaluate_epoch.<locals>._get_metrics\u001b[0;34m(loader)\u001b[0m\n\u001b[1;32m    <a href='vscode-notebook-cell://wsl%2Bubuntu/home/elandg/ml/Pawpularity/pawpularity.ipynb#X46sdnNjb2RlLXJlbW90ZQ%3D%3D?line=123'>124</a>\u001b[0m \u001b[39melse\u001b[39;00m:\n\u001b[1;32m    <a href='vscode-notebook-cell://wsl%2Bubuntu/home/elandg/ml/Pawpularity/pawpularity.ipynb#X46sdnNjb2RlLXJlbW90ZQ%3D%3D?line=124'>125</a>\u001b[0m     output \u001b[39m=\u001b[39m model(inputs)\n\u001b[0;32m--> <a href='vscode-notebook-cell://wsl%2Bubuntu/home/elandg/ml/Pawpularity/pawpularity.ipynb#X46sdnNjb2RlLXJlbW90ZQ%3D%3D?line=125'>126</a>\u001b[0m predicted \u001b[39m=\u001b[39m predictions(model\u001b[39m.\u001b[39;49mname, loss_criterion, output)\u001b[39m.\u001b[39mcpu()\n\u001b[1;32m    <a href='vscode-notebook-cell://wsl%2Bubuntu/home/elandg/ml/Pawpularity/pawpularity.ipynb#X46sdnNjb2RlLXJlbW90ZQ%3D%3D?line=127'>128</a>\u001b[0m total \u001b[39m+\u001b[39m\u001b[39m=\u001b[39m labels\u001b[39m.\u001b[39msize(\u001b[39m0\u001b[39m)\n\u001b[1;32m    <a href='vscode-notebook-cell://wsl%2Bubuntu/home/elandg/ml/Pawpularity/pawpularity.ipynb#X46sdnNjb2RlLXJlbW90ZQ%3D%3D?line=128'>129</a>\u001b[0m \u001b[39m# labels = labels.to(device)\u001b[39;00m\n\u001b[1;32m    <a href='vscode-notebook-cell://wsl%2Bubuntu/home/elandg/ml/Pawpularity/pawpularity.ipynb#X46sdnNjb2RlLXJlbW90ZQ%3D%3D?line=129'>130</a>\u001b[0m \u001b[39m# correct += (torch.abs(predicted - labels) < 5).sum().item()\u001b[39;00m\n",
            "\u001b[1;32m/home/elandg/ml/Pawpularity/pawpularity.ipynb Cell 35\u001b[0m in \u001b[0;36mpredictions\u001b[0;34m(model_name, loss_criterion, output)\u001b[0m\n\u001b[1;32m     <a href='vscode-notebook-cell://wsl%2Bubuntu/home/elandg/ml/Pawpularity/pawpularity.ipynb#X46sdnNjb2RlLXJlbW90ZQ%3D%3D?line=77'>78</a>\u001b[0m     \u001b[39melse\u001b[39;00m:\n\u001b[1;32m     <a href='vscode-notebook-cell://wsl%2Bubuntu/home/elandg/ml/Pawpularity/pawpularity.ipynb#X46sdnNjb2RlLXJlbW90ZQ%3D%3D?line=78'>79</a>\u001b[0m         pred \u001b[39m=\u001b[39m output\u001b[39m.\u001b[39margmax(axis\u001b[39m=\u001b[39m\u001b[39m1\u001b[39m)\u001b[39m.\u001b[39mfloat()\n\u001b[0;32m---> <a href='vscode-notebook-cell://wsl%2Bubuntu/home/elandg/ml/Pawpularity/pawpularity.ipynb#X46sdnNjb2RlLXJlbW90ZQ%3D%3D?line=79'>80</a>\u001b[0m         \u001b[39mprint\u001b[39;49m(pred)\n\u001b[1;32m     <a href='vscode-notebook-cell://wsl%2Bubuntu/home/elandg/ml/Pawpularity/pawpularity.ipynb#X46sdnNjb2RlLXJlbW90ZQ%3D%3D?line=80'>81</a>\u001b[0m \u001b[39melse\u001b[39;00m:\n\u001b[1;32m     <a href='vscode-notebook-cell://wsl%2Bubuntu/home/elandg/ml/Pawpularity/pawpularity.ipynb#X46sdnNjb2RlLXJlbW90ZQ%3D%3D?line=81'>82</a>\u001b[0m     \u001b[39mif\u001b[39;00m \u001b[39m'\u001b[39m\u001b[39minception\u001b[39m\u001b[39m'\u001b[39m \u001b[39min\u001b[39;00m model_name:\n",
            "File \u001b[0;32m~/ml/Pawpularity/env/lib/python3.10/site-packages/torch/_tensor.py:338\u001b[0m, in \u001b[0;36mTensor.__repr__\u001b[0;34m(self, tensor_contents)\u001b[0m\n\u001b[1;32m    335\u001b[0m     \u001b[39mreturn\u001b[39;00m handle_torch_function(Tensor\u001b[39m.\u001b[39m\u001b[39m__repr__\u001b[39m, (\u001b[39mself\u001b[39m,), \u001b[39mself\u001b[39m,\n\u001b[1;32m    336\u001b[0m                                  tensor_contents\u001b[39m=\u001b[39mtensor_contents)\n\u001b[1;32m    337\u001b[0m \u001b[39m# All strings are unicode in Python 3.\u001b[39;00m\n\u001b[0;32m--> 338\u001b[0m \u001b[39mreturn\u001b[39;00m torch\u001b[39m.\u001b[39;49m_tensor_str\u001b[39m.\u001b[39;49m_str(\u001b[39mself\u001b[39;49m, tensor_contents\u001b[39m=\u001b[39;49mtensor_contents)\n",
            "File \u001b[0;32m~/ml/Pawpularity/env/lib/python3.10/site-packages/torch/_tensor_str.py:481\u001b[0m, in \u001b[0;36m_str\u001b[0;34m(self, tensor_contents)\u001b[0m\n\u001b[1;32m    479\u001b[0m \u001b[39mdef\u001b[39;00m \u001b[39m_str\u001b[39m(\u001b[39mself\u001b[39m, \u001b[39m*\u001b[39m, tensor_contents\u001b[39m=\u001b[39m\u001b[39mNone\u001b[39;00m):\n\u001b[1;32m    480\u001b[0m     \u001b[39mwith\u001b[39;00m torch\u001b[39m.\u001b[39mno_grad():\n\u001b[0;32m--> 481\u001b[0m         \u001b[39mreturn\u001b[39;00m _str_intern(\u001b[39mself\u001b[39;49m, tensor_contents\u001b[39m=\u001b[39;49mtensor_contents)\n",
            "File \u001b[0;32m~/ml/Pawpularity/env/lib/python3.10/site-packages/torch/_tensor_str.py:447\u001b[0m, in \u001b[0;36m_str_intern\u001b[0;34m(inp, tensor_contents)\u001b[0m\n\u001b[1;32m    445\u001b[0m                     tensor_str \u001b[39m=\u001b[39m _tensor_str(\u001b[39mself\u001b[39m\u001b[39m.\u001b[39mto_dense(), indent)\n\u001b[1;32m    446\u001b[0m                 \u001b[39melse\u001b[39;00m:\n\u001b[0;32m--> 447\u001b[0m                     tensor_str \u001b[39m=\u001b[39m _tensor_str(\u001b[39mself\u001b[39;49m, indent)\n\u001b[1;32m    449\u001b[0m \u001b[39mif\u001b[39;00m \u001b[39mself\u001b[39m\u001b[39m.\u001b[39mlayout \u001b[39m!=\u001b[39m torch\u001b[39m.\u001b[39mstrided:\n\u001b[1;32m    450\u001b[0m     suffixes\u001b[39m.\u001b[39mappend(\u001b[39m'\u001b[39m\u001b[39mlayout=\u001b[39m\u001b[39m'\u001b[39m \u001b[39m+\u001b[39m \u001b[39mstr\u001b[39m(\u001b[39mself\u001b[39m\u001b[39m.\u001b[39mlayout))\n",
            "File \u001b[0;32m~/ml/Pawpularity/env/lib/python3.10/site-packages/torch/_tensor_str.py:270\u001b[0m, in \u001b[0;36m_tensor_str\u001b[0;34m(self, indent)\u001b[0m\n\u001b[1;32m    268\u001b[0m     \u001b[39mreturn\u001b[39;00m _tensor_str_with_formatter(\u001b[39mself\u001b[39m, indent, summarize, real_formatter, imag_formatter)\n\u001b[1;32m    269\u001b[0m \u001b[39melse\u001b[39;00m:\n\u001b[0;32m--> 270\u001b[0m     formatter \u001b[39m=\u001b[39m _Formatter(get_summarized_data(\u001b[39mself\u001b[39;49m) \u001b[39mif\u001b[39;49;00m summarize \u001b[39melse\u001b[39;49;00m \u001b[39mself\u001b[39;49m)\n\u001b[1;32m    271\u001b[0m     \u001b[39mreturn\u001b[39;00m _tensor_str_with_formatter(\u001b[39mself\u001b[39m, indent, summarize, formatter)\n",
            "File \u001b[0;32m~/ml/Pawpularity/env/lib/python3.10/site-packages/torch/_tensor_str.py:103\u001b[0m, in \u001b[0;36m_Formatter.__init__\u001b[0;34m(self, tensor)\u001b[0m\n\u001b[1;32m    100\u001b[0m         \u001b[39mself\u001b[39m\u001b[39m.\u001b[39mmax_width \u001b[39m=\u001b[39m \u001b[39mmax\u001b[39m(\u001b[39mself\u001b[39m\u001b[39m.\u001b[39mmax_width, \u001b[39mlen\u001b[39m(value_str))\n\u001b[1;32m    102\u001b[0m \u001b[39melse\u001b[39;00m:\n\u001b[0;32m--> 103\u001b[0m     nonzero_finite_vals \u001b[39m=\u001b[39m torch\u001b[39m.\u001b[39;49mmasked_select(tensor_view, torch\u001b[39m.\u001b[39;49misfinite(tensor_view) \u001b[39m&\u001b[39;49m tensor_view\u001b[39m.\u001b[39;49mne(\u001b[39m0\u001b[39;49m))\n\u001b[1;32m    105\u001b[0m     \u001b[39mif\u001b[39;00m nonzero_finite_vals\u001b[39m.\u001b[39mnumel() \u001b[39m==\u001b[39m \u001b[39m0\u001b[39m:\n\u001b[1;32m    106\u001b[0m         \u001b[39m# no valid number, do nothing\u001b[39;00m\n\u001b[1;32m    107\u001b[0m         \u001b[39mreturn\u001b[39;00m\n",
            "\u001b[0;31mKeyboardInterrupt\u001b[0m: "
          ]
        }
      ],
      "source": [
        "save_name = net.name + '_1'\n",
        "MODEL_PATH = os.path.join(ROOT_DIR, save_name + '.pt')\n",
        "MODEL_STATS_PATH = os.path.join(ROOT_DIR, save_name + '.txt')\n",
        "open(MODEL_STATS_PATH, 'w').close()\n",
        "MODEL_GRAPHS_PATH = os.path.join(ROOT_DIR, save_name + '.jpg')\n",
        "\n",
        "print(f'Training for {save_name}')\n",
        "\n",
        "epoch = 0\n",
        "max_epochs = 150\n",
        "patience = 5\n",
        "curr_patience_count = 0\n",
        "metric_labels = ['ACC'] + [criterion['name'] for criterion in criterions]\n",
        "loss_criterion = criterions[0]\n",
        "# total[train, val, test[metric_labels[vals each epoch]]] potential reordering for stats\n",
        "stats = []\n",
        "include_test = False\n",
        "stats = evaluate_epoch(tr_loader, val_loader, te_loader, net, use_metadata, epoch, metric_labels, loss_criterion, criterions=criterions, stats=stats, include_test=include_test, path=MODEL_STATS_PATH)\n",
        "epoch += 1\n",
        "global_min_loss = stats[0][1] # starting val loss\n",
        "\n",
        "# for epoch in range(num_epochs):\n",
        "while epoch < max_epochs and curr_patience_count < patience:\n",
        "    train_epoch(tr_loader, net, use_metadata, loss_criterion, optimizer)\n",
        "\n",
        "    stats = evaluate_epoch(tr_loader, val_loader, te_loader, net, use_metadata, epoch, metric_labels, loss_criterion, criterions=criterions, stats=stats, include_test=include_test, path=MODEL_STATS_PATH)\n",
        "\n",
        "    # print(stats)\n",
        "    \n",
        "    if stats[-1][1] < global_min_loss:\n",
        "        curr_patience_count = 0\n",
        "        global_min_loss = stats[-1][1]\n",
        "        torch.save(net.state_dict(), MODEL_PATH)\n",
        "    else:\n",
        "        curr_patience_count += 1\n",
        "    \n",
        "    epoch += 1\n",
        "\n",
        "print('Finished Training')\n",
        "print_plots(epoch, stats, path=MODEL_GRAPHS_PATH)\n",
        "#E Tutorial had 54% accuracyfnet\n",
        "#E A good loss is below .5 but varies depending on application and dataset"
      ]
    },
    {
      "cell_type": "markdown",
      "metadata": {
        "id": "62bDRuvxsIOK"
      },
      "source": [
        "# Test Model"
      ]
    },
    {
      "cell_type": "code",
      "execution_count": null,
      "metadata": {
        "colab": {
          "base_uri": "https://localhost:8080/",
          "height": 156
        },
        "id": "f-u_LK8HsIOL",
        "outputId": "b36bcd90-0eb5-48e0-deea-910eea29fd1e"
      },
      "outputs": [
        {
          "name": "stderr",
          "output_type": "stream",
          "text": [
            "Clipping input data to the valid range for imshow with RGB data ([0..1] for floats or [0..255] for integers).\n"
          ]
        },
        {
          "data": {
            "image/png": "[encoded data removed]",
            "text/plain": [
              "<Figure size 432x288 with 1 Axes>"
            ]
          },
          "metadata": {
            "needs_background": "light"
          },
          "output_type": "display_data"
        },
        {
          "name": "stdout",
          "output_type": "stream",
          "text": [
            "GroundTruth:     32    18    21    34    26    70    16    36    14    68    54    39    44    53     8    32\n"
          ]
        }
      ],
      "source": [
        "dataiter = iter(te_loader)\n",
        "sample = dataiter.next()\n",
        "images, metadata, labels = sample['image'], sample['metadata'], sample['score']\n",
        "\n",
        "# print images\n",
        "imshow(torchvision.utils.make_grid(images))\n",
        "print('GroundTruth: ', ' '.join('%5s' % classes[labels[j]] for j in range(batch_size)))"
      ]
    },
    {
      "cell_type": "markdown",
      "metadata": {
        "id": "J8n4QoK8sIOL"
      },
      "source": [
        "Next, let's load back in our saved model (note: saving and re-loading the model\n",
        "wasn't necessary here, we only did it to illustrate how to do so):\n",
        "\n"
      ]
    },
    {
      "cell_type": "code",
      "execution_count": null,
      "metadata": {},
      "outputs": [
        {
          "ename": "RuntimeError",
          "evalue": "Error(s) in loading state_dict for MetaNet:\n\tMissing key(s) in state_dict: \"backbone.conv1.weight\", \"backbone.bn1.weight\", \"backbone.bn1.bias\", \"backbone.bn1.running_mean\", \"backbone.bn1.running_var\", \"backbone.layer1.0.conv1.weight\", \"backbone.layer1.0.bn1.weight\", \"backbone.layer1.0.bn1.bias\", \"backbone.layer1.0.bn1.running_mean\", \"backbone.layer1.0.bn1.running_var\", \"backbone.layer1.0.conv2.weight\", \"backbone.layer1.0.bn2.weight\", \"backbone.layer1.0.bn2.bias\", \"backbone.layer1.0.bn2.running_mean\", \"backbone.layer1.0.bn2.running_var\", \"backbone.layer1.0.conv3.weight\", \"backbone.layer1.0.bn3.weight\", \"backbone.layer1.0.bn3.bias\", \"backbone.layer1.0.bn3.running_mean\", \"backbone.layer1.0.bn3.running_var\", \"backbone.layer1.0.downsample.0.weight\", \"backbone.layer1.0.downsample.1.weight\", \"backbone.layer1.0.downsample.1.bias\", \"backbone.layer1.0.downsample.1.running_mean\", \"backbone.layer1.0.downsample.1.running_var\", \"backbone.layer1.1.conv1.weight\", \"backbone.layer1.1.bn1.weight\", \"backbone.layer1.1.bn1.bias\", \"backbone.layer1.1.bn1.running_mean\", \"backbone.layer1.1.bn1.running_var\", \"backbone.layer1.1.conv2.weight\", \"backbone.layer1.1.bn2.weight\", \"backbone.layer1.1.bn2.bias\", \"backbone.layer1.1.bn2.running_mean\", \"backbone.layer1.1.bn2.running_var\", \"backbone.layer1.1.conv3.weight\", \"backbone.layer1.1.bn3.weight\", \"backbone.layer1.1.bn3.bias\", \"backbone.layer1.1.bn3.running_mean\", \"backbone.layer1.1.bn3.running_var\", \"backbone.layer1.2.conv1.weight\", \"backbone.layer1.2.bn1.weight\", \"backbone.layer1.2.bn1.bias\", \"backbone.layer1.2.bn1.running_mean\", \"backbone.layer1.2.bn1.running_var\", \"backbone.layer1.2.conv2.weight\", \"backbone.layer1.2.bn2.weight\", \"backbone.layer1.2.bn2.bias\", \"backbone.layer1.2.bn2.running_mean\", \"backbone.layer1.2.bn2.running_var\", \"backbone.layer1.2.conv3.weight\", \"backbone.layer1.2.bn3.weight\", \"backbone.layer1.2.bn3.bias\", \"backbone.layer1.2.bn3.running_mean\", \"backbone.layer1.2.bn3.running_var\", \"backbone.layer2.0.conv1.weight\", \"backbone.layer2.0.bn1.weight\", \"backbone.layer2.0.bn1.bias\", \"backbone.layer2.0.bn1.running_mean\", \"backbone.layer2.0.bn1.running_var\", \"backbone.layer2.0.conv2.weight\", \"backbone.layer2.0.bn2.weight\", \"backbone.layer2.0.bn2.bias\", \"backbone.layer2.0.bn2.running_mean\", \"backbone.layer2.0.bn2.running_var\", \"backbone.layer2.0.conv3.weight\", \"backbone.layer2.0.bn3.weight\", \"backbone.layer2.0.bn3.bias\", \"backbone.layer2.0.bn3.running_mean\", \"backbone.layer2.0.bn3.running_var\", \"backbone.layer2.0.downsample.0.weight\", \"backbone.layer2.0.downsample.1.weight\", \"backbone.layer2.0.downsample.1.bias\", \"backbone.layer2.0.downsample.1.running_mean\", \"backbone.layer2.0.downsample.1.running_var\", \"backbone.layer2.1.conv1.weight\", \"backbone.layer2.1.bn1.weight\", \"backbone.layer2.1.bn1.bias\", \"backbone.layer2.1.bn1.running_mean\", \"backbone.layer2.1.bn1.running_var\", \"backbone.layer2.1.conv2.weight\", \"backbone.layer2.1.bn2.weight\", \"backbone.layer2.1.bn2.bias\", \"backbone.layer2.1.bn2.running_mean\", \"backbone.layer2.1.bn2.running_var\", \"backbone.layer2.1.conv3.weight\", \"backbone.layer2.1.bn3.weight\", \"backbone.layer2.1.bn3.bias\", \"backbone.layer2.1.bn3.running_mean\", \"backbone.layer2.1.bn3.running_var\", \"backbone.layer2.2.conv1.weight\", \"backbone.layer2.2.bn1.weight\", \"backbone.layer2.2.bn1.bias\", \"backbone.layer2.2.bn1.running_mean\", \"backbone.layer2.2.bn1.running_var\", \"backbone.layer2.2.conv2.weight\", \"backbone.layer2.2.bn2.weight\", \"backbone.layer2.2.bn2.bias\", \"backbone.layer2.2.bn2.running_mean\", \"backbone.layer2.2.bn2.running_var\", \"backbone.layer2.2.conv3.weight\", \"backbone.layer2.2.bn3.weight\", \"backbone.layer2.2.bn3.bias\", \"backbone.layer2.2.bn3.running_mean\", \"backbone.layer2.2.bn3.running_var\", \"backbone.layer2.3.conv1.weight\", \"backbone.layer2.3.bn1.weight\", \"backbone.layer2.3.bn1.bias\", \"backbone.layer2.3.bn1.running_mean\", \"backbone.layer2.3.bn1.running_var\", \"backbone.layer2.3.conv2.weight\", \"backbone.layer2.3.bn2.weight\", \"backbone.layer2.3.bn2.bias\", \"backbone.layer2.3.bn2.running_mean\", \"backbone.layer2.3.bn2.running_var\", \"backbone.layer2.3.conv3.weight\", \"backbone.layer2.3.bn3.weight\", \"backbone.layer2.3.bn3.bias\", \"backbone.layer2.3.bn3.running_mean\", \"backbone.layer2.3.bn3.running_var\", \"backbone.layer3.0.conv1.weight\", \"backbone.layer3.0.bn1.weight\", \"backbone.layer3.0.bn1.bias\", \"backbone.layer3.0.bn1.running_mean\", \"backbone.layer3.0.bn1.running_var\", \"backbone.layer3.0.conv2.weight\", \"backbone.layer3.0.bn2.weight\", \"backbone.layer3.0.bn2.bias\", \"backbone.layer3.0.bn2.running_mean\", \"backbone.layer3.0.bn2.running_var\", \"backbone.layer3.0.conv3.weight\", \"backbone.layer3.0.bn3.weight\", \"backbone.layer3.0.bn3.bias\", \"backbone.layer3.0.bn3.running_mean\", \"backbone.layer3.0.bn3.running_var\", \"backbone.layer3.0.downsample.0.weight\", \"backbone.layer3.0.downsample.1.weight\", \"backbone.layer3.0.downsample.1.bias\", \"backbone.layer3.0.downsample.1.running_mean\", \"backbone.layer3.0.downsample.1.running_var\", \"backbone.layer3.1.conv1.weight\", \"backbone.layer3.1.bn1.weight\", \"backbone.layer3.1.bn1.bias\", \"backbone.layer3.1.bn1.running_mean\", \"backbone.layer3.1.bn1.running_var\", \"backbone.layer3.1.conv2.weight\", \"backbone.layer3.1.bn2.weight\", \"backbone.layer3.1.bn2.bias\", \"backbone.layer3.1.bn2.running_mean\", \"backbone.layer3.1.bn2.running_var\", \"backbone.layer3.1.conv3.weight\", \"backbone.layer3.1.bn3.weight\", \"backbone.layer3.1.bn3.bias\", \"backbone.layer3.1.bn3.running_mean\", \"backbone.layer3.1.bn3.running_var\", \"backbone.layer3.2.conv1.weight\", \"backbone.layer3.2.bn1.weight\", \"backbone.layer3.2.bn1.bias\", \"backbone.layer3.2.bn1.running_mean\", \"backbone.layer3.2.bn1.running_var\", \"backbone.layer3.2.conv2.weight\", \"backbone.layer3.2.bn2.weight\", \"backbone.layer3.2.bn2.bias\", \"backbone.layer3.2.bn2.running_mean\", \"backbone.layer3.2.bn2.running_var\", \"backbone.layer3.2.conv3.weight\", \"backbone.layer3.2.bn3.weight\", \"backbone.layer3.2.bn3.bias\", \"backbone.layer3.2.bn3.running_mean\", \"backbone.layer3.2.bn3.running_var\", \"backbone.layer3.3.conv1.weight\", \"backbone.layer3.3.bn1.weight\", \"backbone.layer3.3.bn1.bias\", \"backbone.layer3.3.bn1.running_mean\", \"backbone.layer3.3.bn1.running_var\", \"backbone.layer3.3.conv2.weight\", \"backbone.layer3.3.bn2.weight\", \"backbone.layer3.3.bn2.bias\", \"backbone.layer3.3.bn2.running_mean\", \"backbone.layer3.3.bn2.running_var\", \"backbone.layer3.3.conv3.weight\", \"backbone.layer3.3.bn3.weight\", \"backbone.layer3.3.bn3.bias\", \"backbone.layer3.3.bn3.running_mean\", \"backbone.layer3.3.bn3.running_var\", \"backbone.layer3.4.conv1.weight\", \"backbone.layer3.4.bn1.weight\", \"backbone.layer3.4.bn1.bias\", \"backbone.layer3.4.bn1.running_mean\", \"backbone.layer3.4.bn1.running_var\", \"backbone.layer3.4.conv2.weight\", \"backbone.layer3.4.bn2.weight\", \"backbone.layer3.4.bn2.bias\", \"backbone.layer3.4.bn2.running_mean\", \"backbone.layer3.4.bn2.running_var\", \"backbone.layer3.4.conv3.weight\", \"backbone.layer3.4.bn3.weight\", \"backbone.layer3.4.bn3.bias\", \"backbone.layer3.4.bn3.running_mean\", \"backbone.layer3.4.bn3.running_var\", \"backbone.layer3.5.conv1.weight\", \"backbone.layer3.5.bn1.weight\", \"backbone.layer3.5.bn1.bias\", \"backbone.layer3.5.bn1.running_mean\", \"backbone.layer3.5.bn1.running_var\", \"backbone.layer3.5.conv2.weight\", \"backbone.layer3.5.bn2.weight\", \"backbone.layer3.5.bn2.bias\", \"backbone.layer3.5.bn2.running_mean\", \"backbone.layer3.5.bn2.running_var\", \"backbone.layer3.5.conv3.weight\", \"backbone.layer3.5.bn3.weight\", \"backbone.layer3.5.bn3.bias\", \"backbone.layer3.5.bn3.running_mean\", \"backbone.layer3.5.bn3.running_var\", \"backbone.layer4.0.conv1.weight\", \"backbone.layer4.0.bn1.weight\", \"backbone.layer4.0.bn1.bias\", \"backbone.layer4.0.bn1.running_mean\", \"backbone.layer4.0.bn1.running_var\", \"backbone.layer4.0.conv2.weight\", \"backbone.layer4.0.bn2.weight\", \"backbone.layer4.0.bn2.bias\", \"backbone.layer4.0.bn2.running_mean\", \"backbone.layer4.0.bn2.running_var\", \"backbone.layer4.0.conv3.weight\", \"backbone.layer4.0.bn3.weight\", \"backbone.layer4.0.bn3.bias\", \"backbone.layer4.0.bn3.running_mean\", \"backbone.layer4.0.bn3.running_var\", \"backbone.layer4.0.downsample.0.weight\", \"backbone.layer4.0.downsample.1.weight\", \"backbone.layer4.0.downsample.1.bias\", \"backbone.layer4.0.downsample.1.running_mean\", \"backbone.layer4.0.downsample.1.running_var\", \"backbone.layer4.1.conv1.weight\", \"backbone.layer4.1.bn1.weight\", \"backbone.layer4.1.bn1.bias\", \"backbone.layer4.1.bn1.running_mean\", \"backbone.layer4.1.bn1.running_var\", \"backbone.layer4.1.conv2.weight\", \"backbone.layer4.1.bn2.weight\", \"backbone.layer4.1.bn2.bias\", \"backbone.layer4.1.bn2.running_mean\", \"backbone.layer4.1.bn2.running_var\", \"backbone.layer4.1.conv3.weight\", \"backbone.layer4.1.bn3.weight\", \"backbone.layer4.1.bn3.bias\", \"backbone.layer4.1.bn3.running_mean\", \"backbone.layer4.1.bn3.running_var\", \"backbone.layer4.2.conv1.weight\", \"backbone.layer4.2.bn1.weight\", \"backbone.layer4.2.bn1.bias\", \"backbone.layer4.2.bn1.running_mean\", \"backbone.layer4.2.bn1.running_var\", \"backbone.layer4.2.conv2.weight\", \"backbone.layer4.2.bn2.weight\", \"backbone.layer4.2.bn2.bias\", \"backbone.layer4.2.bn2.running_mean\", \"backbone.layer4.2.bn2.running_var\", \"backbone.layer4.2.conv3.weight\", \"backbone.layer4.2.bn3.weight\", \"backbone.layer4.2.bn3.bias\", \"backbone.layer4.2.bn3.running_mean\", \"backbone.layer4.2.bn3.running_var\", \"backbone.fc.weight\", \"backbone.fc.bias\". \n\tUnexpected key(s) in state_dict: \"net.conv1.weight\", \"net.bn1.weight\", \"net.bn1.bias\", \"net.bn1.running_mean\", \"net.bn1.running_var\", \"net.bn1.num_batches_tracked\", \"net.layer1.0.conv1.weight\", \"net.layer1.0.bn1.weight\", \"net.layer1.0.bn1.bias\", \"net.layer1.0.bn1.running_mean\", \"net.layer1.0.bn1.running_var\", \"net.layer1.0.bn1.num_batches_tracked\", \"net.layer1.0.conv2.weight\", \"net.layer1.0.bn2.weight\", \"net.layer1.0.bn2.bias\", \"net.layer1.0.bn2.running_mean\", \"net.layer1.0.bn2.running_var\", \"net.layer1.0.bn2.num_batches_tracked\", \"net.layer1.1.conv1.weight\", \"net.layer1.1.bn1.weight\", \"net.layer1.1.bn1.bias\", \"net.layer1.1.bn1.running_mean\", \"net.layer1.1.bn1.running_var\", \"net.layer1.1.bn1.num_batches_tracked\", \"net.layer1.1.conv2.weight\", \"net.layer1.1.bn2.weight\", \"net.layer1.1.bn2.bias\", \"net.layer1.1.bn2.running_mean\", \"net.layer1.1.bn2.running_var\", \"net.layer1.1.bn2.num_batches_tracked\", \"net.layer2.0.conv1.weight\", \"net.layer2.0.bn1.weight\", \"net.layer2.0.bn1.bias\", \"net.layer2.0.bn1.running_mean\", \"net.layer2.0.bn1.running_var\", \"net.layer2.0.bn1.num_batches_tracked\", \"net.layer2.0.conv2.weight\", \"net.layer2.0.bn2.weight\", \"net.layer2.0.bn2.bias\", \"net.layer2.0.bn2.running_mean\", \"net.layer2.0.bn2.running_var\", \"net.layer2.0.bn2.num_batches_tracked\", \"net.layer2.0.downsample.0.weight\", \"net.layer2.0.downsample.1.weight\", \"net.layer2.0.downsample.1.bias\", \"net.layer2.0.downsample.1.running_mean\", \"net.layer2.0.downsample.1.running_var\", \"net.layer2.0.downsample.1.num_batches_tracked\", \"net.layer2.1.conv1.weight\", \"net.layer2.1.bn1.weight\", \"net.layer2.1.bn1.bias\", \"net.layer2.1.bn1.running_mean\", \"net.layer2.1.bn1.running_var\", \"net.layer2.1.bn1.num_batches_tracked\", \"net.layer2.1.conv2.weight\", \"net.layer2.1.bn2.weight\", \"net.layer2.1.bn2.bias\", \"net.layer2.1.bn2.running_mean\", \"net.layer2.1.bn2.running_var\", \"net.layer2.1.bn2.num_batches_tracked\", \"net.layer3.0.conv1.weight\", \"net.layer3.0.bn1.weight\", \"net.layer3.0.bn1.bias\", \"net.layer3.0.bn1.running_mean\", \"net.layer3.0.bn1.running_var\", \"net.layer3.0.bn1.num_batches_tracked\", \"net.layer3.0.conv2.weight\", \"net.layer3.0.bn2.weight\", \"net.layer3.0.bn2.bias\", \"net.layer3.0.bn2.running_mean\", \"net.layer3.0.bn2.running_var\", \"net.layer3.0.bn2.num_batches_tracked\", \"net.layer3.0.downsample.0.weight\", \"net.layer3.0.downsample.1.weight\", \"net.layer3.0.downsample.1.bias\", \"net.layer3.0.downsample.1.running_mean\", \"net.layer3.0.downsample.1.running_var\", \"net.layer3.0.downsample.1.num_batches_tracked\", \"net.layer3.1.conv1.weight\", \"net.layer3.1.bn1.weight\", \"net.layer3.1.bn1.bias\", \"net.layer3.1.bn1.running_mean\", \"net.layer3.1.bn1.running_var\", \"net.layer3.1.bn1.num_batches_tracked\", \"net.layer3.1.conv2.weight\", \"net.layer3.1.bn2.weight\", \"net.layer3.1.bn2.bias\", \"net.layer3.1.bn2.running_mean\", \"net.layer3.1.bn2.running_var\", \"net.layer3.1.bn2.num_batches_tracked\", \"net.layer4.0.conv1.weight\", \"net.layer4.0.bn1.weight\", \"net.layer4.0.bn1.bias\", \"net.layer4.0.bn1.running_mean\", \"net.layer4.0.bn1.running_var\", \"net.layer4.0.bn1.num_batches_tracked\", \"net.layer4.0.conv2.weight\", \"net.layer4.0.bn2.weight\", \"net.layer4.0.bn2.bias\", \"net.layer4.0.bn2.running_mean\", \"net.layer4.0.bn2.running_var\", \"net.layer4.0.bn2.num_batches_tracked\", \"net.layer4.0.downsample.0.weight\", \"net.layer4.0.downsample.1.weight\", \"net.layer4.0.downsample.1.bias\", \"net.layer4.0.downsample.1.running_mean\", \"net.layer4.0.downsample.1.running_var\", \"net.layer4.0.downsample.1.num_batches_tracked\", \"net.layer4.1.conv1.weight\", \"net.layer4.1.bn1.weight\", \"net.layer4.1.bn1.bias\", \"net.layer4.1.bn1.running_mean\", \"net.layer4.1.bn1.running_var\", \"net.layer4.1.bn1.num_batches_tracked\", \"net.layer4.1.conv2.weight\", \"net.layer4.1.bn2.weight\", \"net.layer4.1.bn2.bias\", \"net.layer4.1.bn2.running_mean\", \"net.layer4.1.bn2.running_var\", \"net.layer4.1.bn2.num_batches_tracked\", \"net.fc.weight\", \"net.fc.bias\". ",
          "output_type": "error",
          "traceback": [
            "\u001b[0;31m---------------------------------------------------------------------------\u001b[0m",
            "\u001b[0;31mRuntimeError\u001b[0m                              Traceback (most recent call last)",
            "\u001b[1;32m/home/elandg/ml/Pawpularity/pawpularity.ipynb Cell 41\u001b[0m in \u001b[0;36m<cell line: 1>\u001b[0;34m()\u001b[0m\n\u001b[0;32m----> <a href='vscode-notebook-cell://wsl%2Bubuntu/home/elandg/ml/Pawpularity/pawpularity.ipynb#Y102sdnNjb2RlLXJlbW90ZQ%3D%3D?line=0'>1</a>\u001b[0m net\u001b[39m.\u001b[39;49mload_state_dict(torch\u001b[39m.\u001b[39;49mload(\u001b[39m'\u001b[39;49m\u001b[39mmodel1.pt\u001b[39;49m\u001b[39m'\u001b[39;49m))\n\u001b[1;32m      <a href='vscode-notebook-cell://wsl%2Bubuntu/home/elandg/ml/Pawpularity/pawpularity.ipynb#Y102sdnNjb2RlLXJlbW90ZQ%3D%3D?line=1'>2</a>\u001b[0m \u001b[39mprint\u001b[39m(net\u001b[39m.\u001b[39mname)\n",
            "File \u001b[0;32m~/ml/Pawpularity/env/lib/python3.10/site-packages/torch/nn/modules/module.py:1604\u001b[0m, in \u001b[0;36mModule.load_state_dict\u001b[0;34m(self, state_dict, strict)\u001b[0m\n\u001b[1;32m   1599\u001b[0m         error_msgs\u001b[39m.\u001b[39minsert(\n\u001b[1;32m   1600\u001b[0m             \u001b[39m0\u001b[39m, \u001b[39m'\u001b[39m\u001b[39mMissing key(s) in state_dict: \u001b[39m\u001b[39m{}\u001b[39;00m\u001b[39m. \u001b[39m\u001b[39m'\u001b[39m\u001b[39m.\u001b[39mformat(\n\u001b[1;32m   1601\u001b[0m                 \u001b[39m'\u001b[39m\u001b[39m, \u001b[39m\u001b[39m'\u001b[39m\u001b[39m.\u001b[39mjoin(\u001b[39m'\u001b[39m\u001b[39m\"\u001b[39m\u001b[39m{}\u001b[39;00m\u001b[39m\"\u001b[39m\u001b[39m'\u001b[39m\u001b[39m.\u001b[39mformat(k) \u001b[39mfor\u001b[39;00m k \u001b[39min\u001b[39;00m missing_keys)))\n\u001b[1;32m   1603\u001b[0m \u001b[39mif\u001b[39;00m \u001b[39mlen\u001b[39m(error_msgs) \u001b[39m>\u001b[39m \u001b[39m0\u001b[39m:\n\u001b[0;32m-> 1604\u001b[0m     \u001b[39mraise\u001b[39;00m \u001b[39mRuntimeError\u001b[39;00m(\u001b[39m'\u001b[39m\u001b[39mError(s) in loading state_dict for \u001b[39m\u001b[39m{}\u001b[39;00m\u001b[39m:\u001b[39m\u001b[39m\\n\u001b[39;00m\u001b[39m\\t\u001b[39;00m\u001b[39m{}\u001b[39;00m\u001b[39m'\u001b[39m\u001b[39m.\u001b[39mformat(\n\u001b[1;32m   1605\u001b[0m                        \u001b[39mself\u001b[39m\u001b[39m.\u001b[39m\u001b[39m__class__\u001b[39m\u001b[39m.\u001b[39m\u001b[39m__name__\u001b[39m, \u001b[39m\"\u001b[39m\u001b[39m\\n\u001b[39;00m\u001b[39m\\t\u001b[39;00m\u001b[39m\"\u001b[39m\u001b[39m.\u001b[39mjoin(error_msgs)))\n\u001b[1;32m   1606\u001b[0m \u001b[39mreturn\u001b[39;00m _IncompatibleKeys(missing_keys, unexpected_keys)\n",
            "\u001b[0;31mRuntimeError\u001b[0m: Error(s) in loading state_dict for MetaNet:\n\tMissing key(s) in state_dict: \"backbone.conv1.weight\", \"backbone.bn1.weight\", \"backbone.bn1.bias\", \"backbone.bn1.running_mean\", \"backbone.bn1.running_var\", \"backbone.layer1.0.conv1.weight\", \"backbone.layer1.0.bn1.weight\", \"backbone.layer1.0.bn1.bias\", \"backbone.layer1.0.bn1.running_mean\", \"backbone.layer1.0.bn1.running_var\", \"backbone.layer1.0.conv2.weight\", \"backbone.layer1.0.bn2.weight\", \"backbone.layer1.0.bn2.bias\", \"backbone.layer1.0.bn2.running_mean\", \"backbone.layer1.0.bn2.running_var\", \"backbone.layer1.0.conv3.weight\", \"backbone.layer1.0.bn3.weight\", \"backbone.layer1.0.bn3.bias\", \"backbone.layer1.0.bn3.running_mean\", \"backbone.layer1.0.bn3.running_var\", \"backbone.layer1.0.downsample.0.weight\", \"backbone.layer1.0.downsample.1.weight\", \"backbone.layer1.0.downsample.1.bias\", \"backbone.layer1.0.downsample.1.running_mean\", \"backbone.layer1.0.downsample.1.running_var\", \"backbone.layer1.1.conv1.weight\", \"backbone.layer1.1.bn1.weight\", \"backbone.layer1.1.bn1.bias\", \"backbone.layer1.1.bn1.running_mean\", \"backbone.layer1.1.bn1.running_var\", \"backbone.layer1.1.conv2.weight\", \"backbone.layer1.1.bn2.weight\", \"backbone.layer1.1.bn2.bias\", \"backbone.layer1.1.bn2.running_mean\", \"backbone.layer1.1.bn2.running_var\", \"backbone.layer1.1.conv3.weight\", \"backbone.layer1.1.bn3.weight\", \"backbone.layer1.1.bn3.bias\", \"backbone.layer1.1.bn3.running_mean\", \"backbone.layer1.1.bn3.running_var\", \"backbone.layer1.2.conv1.weight\", \"backbone.layer1.2.bn1.weight\", \"backbone.layer1.2.bn1.bias\", \"backbone.layer1.2.bn1.running_mean\", \"backbone.layer1.2.bn1.running_var\", \"backbone.layer1.2.conv2.weight\", \"backbone.layer1.2.bn2.weight\", \"backbone.layer1.2.bn2.bias\", \"backbone.layer1.2.bn2.running_mean\", \"backbone.layer1.2.bn2.running_var\", \"backbone.layer1.2.conv3.weight\", \"backbone.layer1.2.bn3.weight\", \"backbone.layer1.2.bn3.bias\", \"backbone.layer1.2.bn3.running_mean\", \"backbone.layer1.2.bn3.running_var\", \"backbone.layer2.0.conv1.weight\", \"backbone.layer2.0.bn1.weight\", \"backbone.layer2.0.bn1.bias\", \"backbone.layer2.0.bn1.running_mean\", \"backbone.layer2.0.bn1.running_var\", \"backbone.layer2.0.conv2.weight\", \"backbone.layer2.0.bn2.weight\", \"backbone.layer2.0.bn2.bias\", \"backbone.layer2.0.bn2.running_mean\", \"backbone.layer2.0.bn2.running_var\", \"backbone.layer2.0.conv3.weight\", \"backbone.layer2.0.bn3.weight\", \"backbone.layer2.0.bn3.bias\", \"backbone.layer2.0.bn3.running_mean\", \"backbone.layer2.0.bn3.running_var\", \"backbone.layer2.0.downsample.0.weight\", \"backbone.layer2.0.downsample.1.weight\", \"backbone.layer2.0.downsample.1.bias\", \"backbone.layer2.0.downsample.1.running_mean\", \"backbone.layer2.0.downsample.1.running_var\", \"backbone.layer2.1.conv1.weight\", \"backbone.layer2.1.bn1.weight\", \"backbone.layer2.1.bn1.bias\", \"backbone.layer2.1.bn1.running_mean\", \"backbone.layer2.1.bn1.running_var\", \"backbone.layer2.1.conv2.weight\", \"backbone.layer2.1.bn2.weight\", \"backbone.layer2.1.bn2.bias\", \"backbone.layer2.1.bn2.running_mean\", \"backbone.layer2.1.bn2.running_var\", \"backbone.layer2.1.conv3.weight\", \"backbone.layer2.1.bn3.weight\", \"backbone.layer2.1.bn3.bias\", \"backbone.layer2.1.bn3.running_mean\", \"backbone.layer2.1.bn3.running_var\", \"backbone.layer2.2.conv1.weight\", \"backbone.layer2.2.bn1.weight\", \"backbone.layer2.2.bn1.bias\", \"backbone.layer2.2.bn1.running_mean\", \"backbone.layer2.2.bn1.running_var\", \"backbone.layer2.2.conv2.weight\", \"backbone.layer2.2.bn2.weight\", \"backbone.layer2.2.bn2.bias\", \"backbone.layer2.2.bn2.running_mean\", \"backbone.layer2.2.bn2.running_var\", \"backbone.layer2.2.conv3.weight\", \"backbone.layer2.2.bn3.weight\", \"backbone.layer2.2.bn3.bias\", \"backbone.layer2.2.bn3.running_mean\", \"backbone.layer2.2.bn3.running_var\", \"backbone.layer2.3.conv1.weight\", \"backbone.layer2.3.bn1.weight\", \"backbone.layer2.3.bn1.bias\", \"backbone.layer2.3.bn1.running_mean\", \"backbone.layer2.3.bn1.running_var\", \"backbone.layer2.3.conv2.weight\", \"backbone.layer2.3.bn2.weight\", \"backbone.layer2.3.bn2.bias\", \"backbone.layer2.3.bn2.running_mean\", \"backbone.layer2.3.bn2.running_var\", \"backbone.layer2.3.conv3.weight\", \"backbone.layer2.3.bn3.weight\", \"backbone.layer2.3.bn3.bias\", \"backbone.layer2.3.bn3.running_mean\", \"backbone.layer2.3.bn3.running_var\", \"backbone.layer3.0.conv1.weight\", \"backbone.layer3.0.bn1.weight\", \"backbone.layer3.0.bn1.bias\", \"backbone.layer3.0.bn1.running_mean\", \"backbone.layer3.0.bn1.running_var\", \"backbone.layer3.0.conv2.weight\", \"backbone.layer3.0.bn2.weight\", \"backbone.layer3.0.bn2.bias\", \"backbone.layer3.0.bn2.running_mean\", \"backbone.layer3.0.bn2.running_var\", \"backbone.layer3.0.conv3.weight\", \"backbone.layer3.0.bn3.weight\", \"backbone.layer3.0.bn3.bias\", \"backbone.layer3.0.bn3.running_mean\", \"backbone.layer3.0.bn3.running_var\", \"backbone.layer3.0.downsample.0.weight\", \"backbone.layer3.0.downsample.1.weight\", \"backbone.layer3.0.downsample.1.bias\", \"backbone.layer3.0.downsample.1.running_mean\", \"backbone.layer3.0.downsample.1.running_var\", \"backbone.layer3.1.conv1.weight\", \"backbone.layer3.1.bn1.weight\", \"backbone.layer3.1.bn1.bias\", \"backbone.layer3.1.bn1.running_mean\", \"backbone.layer3.1.bn1.running_var\", \"backbone.layer3.1.conv2.weight\", \"backbone.layer3.1.bn2.weight\", \"backbone.layer3.1.bn2.bias\", \"backbone.layer3.1.bn2.running_mean\", \"backbone.layer3.1.bn2.running_var\", \"backbone.layer3.1.conv3.weight\", \"backbone.layer3.1.bn3.weight\", \"backbone.layer3.1.bn3.bias\", \"backbone.layer3.1.bn3.running_mean\", \"backbone.layer3.1.bn3.running_var\", \"backbone.layer3.2.conv1.weight\", \"backbone.layer3.2.bn1.weight\", \"backbone.layer3.2.bn1.bias\", \"backbone.layer3.2.bn1.running_mean\", \"backbone.layer3.2.bn1.running_var\", \"backbone.layer3.2.conv2.weight\", \"backbone.layer3.2.bn2.weight\", \"backbone.layer3.2.bn2.bias\", \"backbone.layer3.2.bn2.running_mean\", \"backbone.layer3.2.bn2.running_var\", \"backbone.layer3.2.conv3.weight\", \"backbone.layer3.2.bn3.weight\", \"backbone.layer3.2.bn3.bias\", \"backbone.layer3.2.bn3.running_mean\", \"backbone.layer3.2.bn3.running_var\", \"backbone.layer3.3.conv1.weight\", \"backbone.layer3.3.bn1.weight\", \"backbone.layer3.3.bn1.bias\", \"backbone.layer3.3.bn1.running_mean\", \"backbone.layer3.3.bn1.running_var\", \"backbone.layer3.3.conv2.weight\", \"backbone.layer3.3.bn2.weight\", \"backbone.layer3.3.bn2.bias\", \"backbone.layer3.3.bn2.running_mean\", \"backbone.layer3.3.bn2.running_var\", \"backbone.layer3.3.conv3.weight\", \"backbone.layer3.3.bn3.weight\", \"backbone.layer3.3.bn3.bias\", \"backbone.layer3.3.bn3.running_mean\", \"backbone.layer3.3.bn3.running_var\", \"backbone.layer3.4.conv1.weight\", \"backbone.layer3.4.bn1.weight\", \"backbone.layer3.4.bn1.bias\", \"backbone.layer3.4.bn1.running_mean\", \"backbone.layer3.4.bn1.running_var\", \"backbone.layer3.4.conv2.weight\", \"backbone.layer3.4.bn2.weight\", \"backbone.layer3.4.bn2.bias\", \"backbone.layer3.4.bn2.running_mean\", \"backbone.layer3.4.bn2.running_var\", \"backbone.layer3.4.conv3.weight\", \"backbone.layer3.4.bn3.weight\", \"backbone.layer3.4.bn3.bias\", \"backbone.layer3.4.bn3.running_mean\", \"backbone.layer3.4.bn3.running_var\", \"backbone.layer3.5.conv1.weight\", \"backbone.layer3.5.bn1.weight\", \"backbone.layer3.5.bn1.bias\", \"backbone.layer3.5.bn1.running_mean\", \"backbone.layer3.5.bn1.running_var\", \"backbone.layer3.5.conv2.weight\", \"backbone.layer3.5.bn2.weight\", \"backbone.layer3.5.bn2.bias\", \"backbone.layer3.5.bn2.running_mean\", \"backbone.layer3.5.bn2.running_var\", \"backbone.layer3.5.conv3.weight\", \"backbone.layer3.5.bn3.weight\", \"backbone.layer3.5.bn3.bias\", \"backbone.layer3.5.bn3.running_mean\", \"backbone.layer3.5.bn3.running_var\", \"backbone.layer4.0.conv1.weight\", \"backbone.layer4.0.bn1.weight\", \"backbone.layer4.0.bn1.bias\", \"backbone.layer4.0.bn1.running_mean\", \"backbone.layer4.0.bn1.running_var\", \"backbone.layer4.0.conv2.weight\", \"backbone.layer4.0.bn2.weight\", \"backbone.layer4.0.bn2.bias\", \"backbone.layer4.0.bn2.running_mean\", \"backbone.layer4.0.bn2.running_var\", \"backbone.layer4.0.conv3.weight\", \"backbone.layer4.0.bn3.weight\", \"backbone.layer4.0.bn3.bias\", \"backbone.layer4.0.bn3.running_mean\", \"backbone.layer4.0.bn3.running_var\", \"backbone.layer4.0.downsample.0.weight\", \"backbone.layer4.0.downsample.1.weight\", \"backbone.layer4.0.downsample.1.bias\", \"backbone.layer4.0.downsample.1.running_mean\", \"backbone.layer4.0.downsample.1.running_var\", \"backbone.layer4.1.conv1.weight\", \"backbone.layer4.1.bn1.weight\", \"backbone.layer4.1.bn1.bias\", \"backbone.layer4.1.bn1.running_mean\", \"backbone.layer4.1.bn1.running_var\", \"backbone.layer4.1.conv2.weight\", \"backbone.layer4.1.bn2.weight\", \"backbone.layer4.1.bn2.bias\", \"backbone.layer4.1.bn2.running_mean\", \"backbone.layer4.1.bn2.running_var\", \"backbone.layer4.1.conv3.weight\", \"backbone.layer4.1.bn3.weight\", \"backbone.layer4.1.bn3.bias\", \"backbone.layer4.1.bn3.running_mean\", \"backbone.layer4.1.bn3.running_var\", \"backbone.layer4.2.conv1.weight\", \"backbone.layer4.2.bn1.weight\", \"backbone.layer4.2.bn1.bias\", \"backbone.layer4.2.bn1.running_mean\", \"backbone.layer4.2.bn1.running_var\", \"backbone.layer4.2.conv2.weight\", \"backbone.layer4.2.bn2.weight\", \"backbone.layer4.2.bn2.bias\", \"backbone.layer4.2.bn2.running_mean\", \"backbone.layer4.2.bn2.running_var\", \"backbone.layer4.2.conv3.weight\", \"backbone.layer4.2.bn3.weight\", \"backbone.layer4.2.bn3.bias\", \"backbone.layer4.2.bn3.running_mean\", \"backbone.layer4.2.bn3.running_var\", \"backbone.fc.weight\", \"backbone.fc.bias\". \n\tUnexpected key(s) in state_dict: \"net.conv1.weight\", \"net.bn1.weight\", \"net.bn1.bias\", \"net.bn1.running_mean\", \"net.bn1.running_var\", \"net.bn1.num_batches_tracked\", \"net.layer1.0.conv1.weight\", \"net.layer1.0.bn1.weight\", \"net.layer1.0.bn1.bias\", \"net.layer1.0.bn1.running_mean\", \"net.layer1.0.bn1.running_var\", \"net.layer1.0.bn1.num_batches_tracked\", \"net.layer1.0.conv2.weight\", \"net.layer1.0.bn2.weight\", \"net.layer1.0.bn2.bias\", \"net.layer1.0.bn2.running_mean\", \"net.layer1.0.bn2.running_var\", \"net.layer1.0.bn2.num_batches_tracked\", \"net.layer1.1.conv1.weight\", \"net.layer1.1.bn1.weight\", \"net.layer1.1.bn1.bias\", \"net.layer1.1.bn1.running_mean\", \"net.layer1.1.bn1.running_var\", \"net.layer1.1.bn1.num_batches_tracked\", \"net.layer1.1.conv2.weight\", \"net.layer1.1.bn2.weight\", \"net.layer1.1.bn2.bias\", \"net.layer1.1.bn2.running_mean\", \"net.layer1.1.bn2.running_var\", \"net.layer1.1.bn2.num_batches_tracked\", \"net.layer2.0.conv1.weight\", \"net.layer2.0.bn1.weight\", \"net.layer2.0.bn1.bias\", \"net.layer2.0.bn1.running_mean\", \"net.layer2.0.bn1.running_var\", \"net.layer2.0.bn1.num_batches_tracked\", \"net.layer2.0.conv2.weight\", \"net.layer2.0.bn2.weight\", \"net.layer2.0.bn2.bias\", \"net.layer2.0.bn2.running_mean\", \"net.layer2.0.bn2.running_var\", \"net.layer2.0.bn2.num_batches_tracked\", \"net.layer2.0.downsample.0.weight\", \"net.layer2.0.downsample.1.weight\", \"net.layer2.0.downsample.1.bias\", \"net.layer2.0.downsample.1.running_mean\", \"net.layer2.0.downsample.1.running_var\", \"net.layer2.0.downsample.1.num_batches_tracked\", \"net.layer2.1.conv1.weight\", \"net.layer2.1.bn1.weight\", \"net.layer2.1.bn1.bias\", \"net.layer2.1.bn1.running_mean\", \"net.layer2.1.bn1.running_var\", \"net.layer2.1.bn1.num_batches_tracked\", \"net.layer2.1.conv2.weight\", \"net.layer2.1.bn2.weight\", \"net.layer2.1.bn2.bias\", \"net.layer2.1.bn2.running_mean\", \"net.layer2.1.bn2.running_var\", \"net.layer2.1.bn2.num_batches_tracked\", \"net.layer3.0.conv1.weight\", \"net.layer3.0.bn1.weight\", \"net.layer3.0.bn1.bias\", \"net.layer3.0.bn1.running_mean\", \"net.layer3.0.bn1.running_var\", \"net.layer3.0.bn1.num_batches_tracked\", \"net.layer3.0.conv2.weight\", \"net.layer3.0.bn2.weight\", \"net.layer3.0.bn2.bias\", \"net.layer3.0.bn2.running_mean\", \"net.layer3.0.bn2.running_var\", \"net.layer3.0.bn2.num_batches_tracked\", \"net.layer3.0.downsample.0.weight\", \"net.layer3.0.downsample.1.weight\", \"net.layer3.0.downsample.1.bias\", \"net.layer3.0.downsample.1.running_mean\", \"net.layer3.0.downsample.1.running_var\", \"net.layer3.0.downsample.1.num_batches_tracked\", \"net.layer3.1.conv1.weight\", \"net.layer3.1.bn1.weight\", \"net.layer3.1.bn1.bias\", \"net.layer3.1.bn1.running_mean\", \"net.layer3.1.bn1.running_var\", \"net.layer3.1.bn1.num_batches_tracked\", \"net.layer3.1.conv2.weight\", \"net.layer3.1.bn2.weight\", \"net.layer3.1.bn2.bias\", \"net.layer3.1.bn2.running_mean\", \"net.layer3.1.bn2.running_var\", \"net.layer3.1.bn2.num_batches_tracked\", \"net.layer4.0.conv1.weight\", \"net.layer4.0.bn1.weight\", \"net.layer4.0.bn1.bias\", \"net.layer4.0.bn1.running_mean\", \"net.layer4.0.bn1.running_var\", \"net.layer4.0.bn1.num_batches_tracked\", \"net.layer4.0.conv2.weight\", \"net.layer4.0.bn2.weight\", \"net.layer4.0.bn2.bias\", \"net.layer4.0.bn2.running_mean\", \"net.layer4.0.bn2.running_var\", \"net.layer4.0.bn2.num_batches_tracked\", \"net.layer4.0.downsample.0.weight\", \"net.layer4.0.downsample.1.weight\", \"net.layer4.0.downsample.1.bias\", \"net.layer4.0.downsample.1.running_mean\", \"net.layer4.0.downsample.1.running_var\", \"net.layer4.0.downsample.1.num_batches_tracked\", \"net.layer4.1.conv1.weight\", \"net.layer4.1.bn1.weight\", \"net.layer4.1.bn1.bias\", \"net.layer4.1.bn1.running_mean\", \"net.layer4.1.bn1.running_var\", \"net.layer4.1.bn1.num_batches_tracked\", \"net.layer4.1.conv2.weight\", \"net.layer4.1.bn2.weight\", \"net.layer4.1.bn2.bias\", \"net.layer4.1.bn2.running_mean\", \"net.layer4.1.bn2.running_var\", \"net.layer4.1.bn2.num_batches_tracked\", \"net.fc.weight\", \"net.fc.bias\". "
          ]
        }
      ],
      "source": [
        "net.load_state_dict(torch.load('model1.pt'))\n",
        "print(net.name)"
      ]
    },
    {
      "cell_type": "code",
      "execution_count": null,
      "metadata": {},
      "outputs": [
        {
          "data": {
            "text/plain": [
              "<All keys matched successfully>"
            ]
          },
          "execution_count": 21,
          "metadata": {},
          "output_type": "execute_result"
        }
      ],
      "source": [
        "# run if runtime disconnects\n",
        "# net = model_ft\n",
        "net.load_state_dict(torch.load('model2.pt'))"
      ]
    },
    {
      "cell_type": "markdown",
      "metadata": {
        "id": "JIFR5qYssIOM"
      },
      "source": [
        "Okay, now let us see what the neural network thinks these examples above are:\n",
        "\n"
      ]
    },
    {
      "cell_type": "code",
      "execution_count": null,
      "metadata": {
        "id": "l0DDuusVsIOM"
      },
      "outputs": [
        {
          "name": "stdout",
          "output_type": "stream",
          "text": [
            "tensor([[-29.8542],\n",
            "        [-37.5395],\n",
            "        [-29.2656],\n",
            "        [-32.1755],\n",
            "        [-33.4673],\n",
            "        [-22.5128],\n",
            "        [-39.3521],\n",
            "        [-27.3795],\n",
            "        [-28.5170],\n",
            "        [-26.8639],\n",
            "        [-26.6919],\n",
            "        [-31.2490],\n",
            "        [-22.7479],\n",
            "        [-27.1315],\n",
            "        [-18.4034],\n",
            "        [-39.6522]], grad_fn=<AddmmBackward0>)\n"
          ]
        }
      ],
      "source": [
        "device = 'cpu'\n",
        "net.to(device)\n",
        "outputs = net(images.to(device), metadata.to(device))\n",
        "print(outputs.cpu())"
      ]
    },
    {
      "cell_type": "code",
      "execution_count": null,
      "metadata": {
        "colab": {
          "base_uri": "https://localhost:8080/"
        },
        "id": "jz8-9IHHsIOM",
        "outputId": "e41db454-5d18-43ba-ba71-ddfd2f8526e9"
      },
      "outputs": [
        {
          "name": "stdout",
          "output_type": "stream",
          "text": [
            "Predicted:    -29   -37   -29   -32   -33   -22   -39   -27   -28   -26   -26   -31   -22   -27   -18   -39\n"
          ]
        }
      ],
      "source": [
        "# _, predicted = torch.max(outputs, 1)\n",
        "# predicted = (np.round(outputs.logits.T[0].float().detach().numpy())).astype(int)\n",
        "# predicted = (np.round(outputs.T[0].float().detach().numpy())).astype(int)\n",
        "predicted = predictions(net.name, outputs).int().cpu().numpy()\n",
        "# print(predicted)\n",
        "# print(outputs)\n",
        "\n",
        "print('Predicted: ', ' '.join('%5s' % predicted[j]\n",
        "                              for j in range(batch_size)))"
      ]
    },
    {
      "cell_type": "markdown",
      "metadata": {
        "id": "g1Uht_8HsIOM"
      },
      "source": [
        "The results seem pretty good.\n",
        "\n",
        "Let us look at how the network performs on the whole dataset.\n",
        "\n"
      ]
    },
    {
      "cell_type": "code",
      "execution_count": null,
      "metadata": {
        "colab": {
          "base_uri": "https://localhost:8080/"
        },
        "id": "SLEB6GgesION",
        "outputId": "35ca5775-e1cf-462a-e328-2e52ecd978c4"
      },
      "outputs": [
        {
          "ename": "TypeError",
          "evalue": "MetaNet.forward() missing 1 required positional argument: 'data'",
          "output_type": "error",
          "traceback": [
            "\u001b[0;31m---------------------------------------------------------------------------\u001b[0m",
            "\u001b[0;31mTypeError\u001b[0m                                 Traceback (most recent call last)",
            "\u001b[1;32m/home/elandg/ml/Pawpularity/pawpularity.ipynb Cell 48\u001b[0m in \u001b[0;36m<cell line: 4>\u001b[0;34m()\u001b[0m\n\u001b[1;32m      <a href='vscode-notebook-cell://wsl%2Bubuntu/home/elandg/ml/Pawpularity/pawpularity.ipynb#X63sdnNjb2RlLXJlbW90ZQ%3D%3D?line=5'>6</a>\u001b[0m images, labels \u001b[39m=\u001b[39m sample[\u001b[39m'\u001b[39m\u001b[39mimage\u001b[39m\u001b[39m'\u001b[39m], sample[\u001b[39m'\u001b[39m\u001b[39mscore\u001b[39m\u001b[39m'\u001b[39m]\n\u001b[1;32m      <a href='vscode-notebook-cell://wsl%2Bubuntu/home/elandg/ml/Pawpularity/pawpularity.ipynb#X63sdnNjb2RlLXJlbW90ZQ%3D%3D?line=6'>7</a>\u001b[0m \u001b[39m# calculate outputs by running images through the network \u001b[39;00m\n\u001b[0;32m----> <a href='vscode-notebook-cell://wsl%2Bubuntu/home/elandg/ml/Pawpularity/pawpularity.ipynb#X63sdnNjb2RlLXJlbW90ZQ%3D%3D?line=7'>8</a>\u001b[0m outputs \u001b[39m=\u001b[39m net(images)\n\u001b[1;32m      <a href='vscode-notebook-cell://wsl%2Bubuntu/home/elandg/ml/Pawpularity/pawpularity.ipynb#X63sdnNjb2RlLXJlbW90ZQ%3D%3D?line=8'>9</a>\u001b[0m \u001b[39m# the class with the highest energy is what we choose as prediction\u001b[39;00m\n\u001b[1;32m     <a href='vscode-notebook-cell://wsl%2Bubuntu/home/elandg/ml/Pawpularity/pawpularity.ipynb#X63sdnNjb2RlLXJlbW90ZQ%3D%3D?line=9'>10</a>\u001b[0m \u001b[39m# _, preds = torch.max(outputs.data, 1)\u001b[39;00m\n\u001b[1;32m     <a href='vscode-notebook-cell://wsl%2Bubuntu/home/elandg/ml/Pawpularity/pawpularity.ipynb#X63sdnNjb2RlLXJlbW90ZQ%3D%3D?line=10'>11</a>\u001b[0m \u001b[39m# preds = (np.round(outputs.logits.T[0].float().detach().numpy())).astype(int)\u001b[39;00m\n\u001b[1;32m     <a href='vscode-notebook-cell://wsl%2Bubuntu/home/elandg/ml/Pawpularity/pawpularity.ipynb#X63sdnNjb2RlLXJlbW90ZQ%3D%3D?line=11'>12</a>\u001b[0m preds \u001b[39m=\u001b[39m outputs\u001b[39m.\u001b[39mT[\u001b[39m0\u001b[39m]\u001b[39m.\u001b[39mfloat()\n",
            "File \u001b[0;32m~/ml/Pawpularity/env/lib/python3.10/site-packages/torch/nn/modules/module.py:1130\u001b[0m, in \u001b[0;36mModule._call_impl\u001b[0;34m(self, *input, **kwargs)\u001b[0m\n\u001b[1;32m   1126\u001b[0m \u001b[39m# If we don't have any hooks, we want to skip the rest of the logic in\u001b[39;00m\n\u001b[1;32m   1127\u001b[0m \u001b[39m# this function, and just call forward.\u001b[39;00m\n\u001b[1;32m   1128\u001b[0m \u001b[39mif\u001b[39;00m \u001b[39mnot\u001b[39;00m (\u001b[39mself\u001b[39m\u001b[39m.\u001b[39m_backward_hooks \u001b[39mor\u001b[39;00m \u001b[39mself\u001b[39m\u001b[39m.\u001b[39m_forward_hooks \u001b[39mor\u001b[39;00m \u001b[39mself\u001b[39m\u001b[39m.\u001b[39m_forward_pre_hooks \u001b[39mor\u001b[39;00m _global_backward_hooks\n\u001b[1;32m   1129\u001b[0m         \u001b[39mor\u001b[39;00m _global_forward_hooks \u001b[39mor\u001b[39;00m _global_forward_pre_hooks):\n\u001b[0;32m-> 1130\u001b[0m     \u001b[39mreturn\u001b[39;00m forward_call(\u001b[39m*\u001b[39;49m\u001b[39minput\u001b[39;49m, \u001b[39m*\u001b[39;49m\u001b[39m*\u001b[39;49mkwargs)\n\u001b[1;32m   1131\u001b[0m \u001b[39m# Do not call functions when jit is used\u001b[39;00m\n\u001b[1;32m   1132\u001b[0m full_backward_hooks, non_full_backward_hooks \u001b[39m=\u001b[39m [], []\n",
            "\u001b[0;31mTypeError\u001b[0m: MetaNet.forward() missing 1 required positional argument: 'data'"
          ]
        }
      ],
      "source": [
        "correct = 0\n",
        "total = 0\n",
        "# since we're not training, we don't need to calculate the gradients for our outputs\n",
        "with torch.no_grad():\n",
        "    for data in te_loader:\n",
        "        images, labels = sample['image'], sample['score']\n",
        "        # calculate outputs by running images through the network \n",
        "        outputs = net(images)\n",
        "        # the class with the highest energy is what we choose as prediction\n",
        "        # _, preds = torch.max(outputs.data, 1)\n",
        "        # preds = (np.round(outputs.logits.T[0].float().detach().numpy())).astype(int)\n",
        "        preds = outputs.T[0].float()\n",
        "        total += labels.size(0)\n",
        "        # print(preds == labels)\n",
        "        correct += (torch.abs(preds - labels) < 5).sum().item()\n",
        "\n",
        "print('Accuracy of the network on the 1000 test images: %d %%' % (100 * correct / total))"
      ]
    },
    {
      "cell_type": "code",
      "execution_count": null,
      "metadata": {
        "colab": {
          "base_uri": "https://localhost:8080/"
        },
        "id": "hUqjbKoXsION",
        "outputId": "75bea57d-8592-4348-b360-30a1bccede13"
      },
      "outputs": [
        {
          "ename": "TypeError",
          "evalue": "conv2d() received an invalid combination of arguments - got (str, Parameter, NoneType, tuple, tuple, tuple, int), but expected one of:\n * (Tensor input, Tensor weight, Tensor bias, tuple of ints stride, tuple of ints padding, tuple of ints dilation, int groups)\n      didn't match because some of the arguments have invalid types: (!str!, !Parameter!, !NoneType!, !tuple!, !tuple!, !tuple!, int)\n * (Tensor input, Tensor weight, Tensor bias, tuple of ints stride, str padding, tuple of ints dilation, int groups)\n      didn't match because some of the arguments have invalid types: (!str!, !Parameter!, !NoneType!, !tuple!, !tuple!, !tuple!, int)\n",
          "output_type": "error",
          "traceback": [
            "\u001b[0;31m---------------------------------------------------------------------------\u001b[0m",
            "\u001b[0;31mTypeError\u001b[0m                                 Traceback (most recent call last)",
            "\u001b[1;32m/home/elandg/ml/Pawpularity/pawpularity.ipynb Cell 50\u001b[0m in \u001b[0;36m<cell line: 6>\u001b[0;34m()\u001b[0m\n\u001b[1;32m      <a href='vscode-notebook-cell://wsl%2Bubuntu/home/elandg/ml/Pawpularity/pawpularity.ipynb#ch0000057vscode-remote?line=6'>7</a>\u001b[0m \u001b[39mfor\u001b[39;00m data \u001b[39min\u001b[39;00m te_loader:\n\u001b[1;32m      <a href='vscode-notebook-cell://wsl%2Bubuntu/home/elandg/ml/Pawpularity/pawpularity.ipynb#ch0000057vscode-remote?line=7'>8</a>\u001b[0m     images, labels \u001b[39m=\u001b[39m data        \n\u001b[0;32m----> <a href='vscode-notebook-cell://wsl%2Bubuntu/home/elandg/ml/Pawpularity/pawpularity.ipynb#ch0000057vscode-remote?line=8'>9</a>\u001b[0m     outputs \u001b[39m=\u001b[39m net(images)        \n\u001b[1;32m     <a href='vscode-notebook-cell://wsl%2Bubuntu/home/elandg/ml/Pawpularity/pawpularity.ipynb#ch0000057vscode-remote?line=9'>10</a>\u001b[0m     _, preds \u001b[39m=\u001b[39m outputs\n\u001b[1;32m     <a href='vscode-notebook-cell://wsl%2Bubuntu/home/elandg/ml/Pawpularity/pawpularity.ipynb#ch0000057vscode-remote?line=10'>11</a>\u001b[0m     \u001b[39m# collect the correct predictions for each class\u001b[39;00m\n",
            "File \u001b[0;32m~/ml/Pawpularity/env/lib/python3.10/site-packages/torch/nn/modules/module.py:1130\u001b[0m, in \u001b[0;36mModule._call_impl\u001b[0;34m(self, *input, **kwargs)\u001b[0m\n\u001b[1;32m   1126\u001b[0m \u001b[39m# If we don't have any hooks, we want to skip the rest of the logic in\u001b[39;00m\n\u001b[1;32m   1127\u001b[0m \u001b[39m# this function, and just call forward.\u001b[39;00m\n\u001b[1;32m   1128\u001b[0m \u001b[39mif\u001b[39;00m \u001b[39mnot\u001b[39;00m (\u001b[39mself\u001b[39m\u001b[39m.\u001b[39m_backward_hooks \u001b[39mor\u001b[39;00m \u001b[39mself\u001b[39m\u001b[39m.\u001b[39m_forward_hooks \u001b[39mor\u001b[39;00m \u001b[39mself\u001b[39m\u001b[39m.\u001b[39m_forward_pre_hooks \u001b[39mor\u001b[39;00m _global_backward_hooks\n\u001b[1;32m   1129\u001b[0m         \u001b[39mor\u001b[39;00m _global_forward_hooks \u001b[39mor\u001b[39;00m _global_forward_pre_hooks):\n\u001b[0;32m-> 1130\u001b[0m     \u001b[39mreturn\u001b[39;00m forward_call(\u001b[39m*\u001b[39;49m\u001b[39minput\u001b[39;49m, \u001b[39m*\u001b[39;49m\u001b[39m*\u001b[39;49mkwargs)\n\u001b[1;32m   1131\u001b[0m \u001b[39m# Do not call functions when jit is used\u001b[39;00m\n\u001b[1;32m   1132\u001b[0m full_backward_hooks, non_full_backward_hooks \u001b[39m=\u001b[39m [], []\n",
            "File \u001b[0;32m~/ml/Pawpularity/env/lib/python3.10/site-packages/torchvision/models/inception.py:166\u001b[0m, in \u001b[0;36mInception3.forward\u001b[0;34m(self, x)\u001b[0m\n\u001b[1;32m    164\u001b[0m \u001b[39mdef\u001b[39;00m \u001b[39mforward\u001b[39m(\u001b[39mself\u001b[39m, x: Tensor) \u001b[39m-\u001b[39m\u001b[39m>\u001b[39m InceptionOutputs:\n\u001b[1;32m    165\u001b[0m     x \u001b[39m=\u001b[39m \u001b[39mself\u001b[39m\u001b[39m.\u001b[39m_transform_input(x)\n\u001b[0;32m--> 166\u001b[0m     x, aux \u001b[39m=\u001b[39m \u001b[39mself\u001b[39;49m\u001b[39m.\u001b[39;49m_forward(x)\n\u001b[1;32m    167\u001b[0m     aux_defined \u001b[39m=\u001b[39m \u001b[39mself\u001b[39m\u001b[39m.\u001b[39mtraining \u001b[39mand\u001b[39;00m \u001b[39mself\u001b[39m\u001b[39m.\u001b[39maux_logits\n\u001b[1;32m    168\u001b[0m     \u001b[39mif\u001b[39;00m torch\u001b[39m.\u001b[39mjit\u001b[39m.\u001b[39mis_scripting():\n",
            "File \u001b[0;32m~/ml/Pawpularity/env/lib/python3.10/site-packages/torchvision/models/inception.py:105\u001b[0m, in \u001b[0;36mInception3._forward\u001b[0;34m(self, x)\u001b[0m\n\u001b[1;32m    103\u001b[0m \u001b[39mdef\u001b[39;00m \u001b[39m_forward\u001b[39m(\u001b[39mself\u001b[39m, x: Tensor) \u001b[39m-\u001b[39m\u001b[39m>\u001b[39m Tuple[Tensor, Optional[Tensor]]:\n\u001b[1;32m    104\u001b[0m     \u001b[39m# N x 3 x 299 x 299\u001b[39;00m\n\u001b[0;32m--> 105\u001b[0m     x \u001b[39m=\u001b[39m \u001b[39mself\u001b[39;49m\u001b[39m.\u001b[39;49mConv2d_1a_3x3(x)\n\u001b[1;32m    106\u001b[0m     \u001b[39m# N x 32 x 149 x 149\u001b[39;00m\n\u001b[1;32m    107\u001b[0m     x \u001b[39m=\u001b[39m \u001b[39mself\u001b[39m\u001b[39m.\u001b[39mConv2d_2a_3x3(x)\n",
            "File \u001b[0;32m~/ml/Pawpularity/env/lib/python3.10/site-packages/torch/nn/modules/module.py:1130\u001b[0m, in \u001b[0;36mModule._call_impl\u001b[0;34m(self, *input, **kwargs)\u001b[0m\n\u001b[1;32m   1126\u001b[0m \u001b[39m# If we don't have any hooks, we want to skip the rest of the logic in\u001b[39;00m\n\u001b[1;32m   1127\u001b[0m \u001b[39m# this function, and just call forward.\u001b[39;00m\n\u001b[1;32m   1128\u001b[0m \u001b[39mif\u001b[39;00m \u001b[39mnot\u001b[39;00m (\u001b[39mself\u001b[39m\u001b[39m.\u001b[39m_backward_hooks \u001b[39mor\u001b[39;00m \u001b[39mself\u001b[39m\u001b[39m.\u001b[39m_forward_hooks \u001b[39mor\u001b[39;00m \u001b[39mself\u001b[39m\u001b[39m.\u001b[39m_forward_pre_hooks \u001b[39mor\u001b[39;00m _global_backward_hooks\n\u001b[1;32m   1129\u001b[0m         \u001b[39mor\u001b[39;00m _global_forward_hooks \u001b[39mor\u001b[39;00m _global_forward_pre_hooks):\n\u001b[0;32m-> 1130\u001b[0m     \u001b[39mreturn\u001b[39;00m forward_call(\u001b[39m*\u001b[39;49m\u001b[39minput\u001b[39;49m, \u001b[39m*\u001b[39;49m\u001b[39m*\u001b[39;49mkwargs)\n\u001b[1;32m   1131\u001b[0m \u001b[39m# Do not call functions when jit is used\u001b[39;00m\n\u001b[1;32m   1132\u001b[0m full_backward_hooks, non_full_backward_hooks \u001b[39m=\u001b[39m [], []\n",
            "File \u001b[0;32m~/ml/Pawpularity/env/lib/python3.10/site-packages/torchvision/models/inception.py:405\u001b[0m, in \u001b[0;36mBasicConv2d.forward\u001b[0;34m(self, x)\u001b[0m\n\u001b[1;32m    404\u001b[0m \u001b[39mdef\u001b[39;00m \u001b[39mforward\u001b[39m(\u001b[39mself\u001b[39m, x: Tensor) \u001b[39m-\u001b[39m\u001b[39m>\u001b[39m Tensor:\n\u001b[0;32m--> 405\u001b[0m     x \u001b[39m=\u001b[39m \u001b[39mself\u001b[39;49m\u001b[39m.\u001b[39;49mconv(x)\n\u001b[1;32m    406\u001b[0m     x \u001b[39m=\u001b[39m \u001b[39mself\u001b[39m\u001b[39m.\u001b[39mbn(x)\n\u001b[1;32m    407\u001b[0m     \u001b[39mreturn\u001b[39;00m F\u001b[39m.\u001b[39mrelu(x, inplace\u001b[39m=\u001b[39m\u001b[39mTrue\u001b[39;00m)\n",
            "File \u001b[0;32m~/ml/Pawpularity/env/lib/python3.10/site-packages/torch/nn/modules/module.py:1130\u001b[0m, in \u001b[0;36mModule._call_impl\u001b[0;34m(self, *input, **kwargs)\u001b[0m\n\u001b[1;32m   1126\u001b[0m \u001b[39m# If we don't have any hooks, we want to skip the rest of the logic in\u001b[39;00m\n\u001b[1;32m   1127\u001b[0m \u001b[39m# this function, and just call forward.\u001b[39;00m\n\u001b[1;32m   1128\u001b[0m \u001b[39mif\u001b[39;00m \u001b[39mnot\u001b[39;00m (\u001b[39mself\u001b[39m\u001b[39m.\u001b[39m_backward_hooks \u001b[39mor\u001b[39;00m \u001b[39mself\u001b[39m\u001b[39m.\u001b[39m_forward_hooks \u001b[39mor\u001b[39;00m \u001b[39mself\u001b[39m\u001b[39m.\u001b[39m_forward_pre_hooks \u001b[39mor\u001b[39;00m _global_backward_hooks\n\u001b[1;32m   1129\u001b[0m         \u001b[39mor\u001b[39;00m _global_forward_hooks \u001b[39mor\u001b[39;00m _global_forward_pre_hooks):\n\u001b[0;32m-> 1130\u001b[0m     \u001b[39mreturn\u001b[39;00m forward_call(\u001b[39m*\u001b[39;49m\u001b[39minput\u001b[39;49m, \u001b[39m*\u001b[39;49m\u001b[39m*\u001b[39;49mkwargs)\n\u001b[1;32m   1131\u001b[0m \u001b[39m# Do not call functions when jit is used\u001b[39;00m\n\u001b[1;32m   1132\u001b[0m full_backward_hooks, non_full_backward_hooks \u001b[39m=\u001b[39m [], []\n",
            "File \u001b[0;32m~/ml/Pawpularity/env/lib/python3.10/site-packages/torch/nn/modules/conv.py:457\u001b[0m, in \u001b[0;36mConv2d.forward\u001b[0;34m(self, input)\u001b[0m\n\u001b[1;32m    456\u001b[0m \u001b[39mdef\u001b[39;00m \u001b[39mforward\u001b[39m(\u001b[39mself\u001b[39m, \u001b[39minput\u001b[39m: Tensor) \u001b[39m-\u001b[39m\u001b[39m>\u001b[39m Tensor:\n\u001b[0;32m--> 457\u001b[0m     \u001b[39mreturn\u001b[39;00m \u001b[39mself\u001b[39;49m\u001b[39m.\u001b[39;49m_conv_forward(\u001b[39minput\u001b[39;49m, \u001b[39mself\u001b[39;49m\u001b[39m.\u001b[39;49mweight, \u001b[39mself\u001b[39;49m\u001b[39m.\u001b[39;49mbias)\n",
            "File \u001b[0;32m~/ml/Pawpularity/env/lib/python3.10/site-packages/torch/nn/modules/conv.py:453\u001b[0m, in \u001b[0;36mConv2d._conv_forward\u001b[0;34m(self, input, weight, bias)\u001b[0m\n\u001b[1;32m    449\u001b[0m \u001b[39mif\u001b[39;00m \u001b[39mself\u001b[39m\u001b[39m.\u001b[39mpadding_mode \u001b[39m!=\u001b[39m \u001b[39m'\u001b[39m\u001b[39mzeros\u001b[39m\u001b[39m'\u001b[39m:\n\u001b[1;32m    450\u001b[0m     \u001b[39mreturn\u001b[39;00m F\u001b[39m.\u001b[39mconv2d(F\u001b[39m.\u001b[39mpad(\u001b[39minput\u001b[39m, \u001b[39mself\u001b[39m\u001b[39m.\u001b[39m_reversed_padding_repeated_twice, mode\u001b[39m=\u001b[39m\u001b[39mself\u001b[39m\u001b[39m.\u001b[39mpadding_mode),\n\u001b[1;32m    451\u001b[0m                     weight, bias, \u001b[39mself\u001b[39m\u001b[39m.\u001b[39mstride,\n\u001b[1;32m    452\u001b[0m                     _pair(\u001b[39m0\u001b[39m), \u001b[39mself\u001b[39m\u001b[39m.\u001b[39mdilation, \u001b[39mself\u001b[39m\u001b[39m.\u001b[39mgroups)\n\u001b[0;32m--> 453\u001b[0m \u001b[39mreturn\u001b[39;00m F\u001b[39m.\u001b[39;49mconv2d(\u001b[39minput\u001b[39;49m, weight, bias, \u001b[39mself\u001b[39;49m\u001b[39m.\u001b[39;49mstride,\n\u001b[1;32m    454\u001b[0m                 \u001b[39mself\u001b[39;49m\u001b[39m.\u001b[39;49mpadding, \u001b[39mself\u001b[39;49m\u001b[39m.\u001b[39;49mdilation, \u001b[39mself\u001b[39;49m\u001b[39m.\u001b[39;49mgroups)\n",
            "\u001b[0;31mTypeError\u001b[0m: conv2d() received an invalid combination of arguments - got (str, Parameter, NoneType, tuple, tuple, tuple, int), but expected one of:\n * (Tensor input, Tensor weight, Tensor bias, tuple of ints stride, tuple of ints padding, tuple of ints dilation, int groups)\n      didn't match because some of the arguments have invalid types: (!str!, !Parameter!, !NoneType!, !tuple!, !tuple!, !tuple!, int)\n * (Tensor input, Tensor weight, Tensor bias, tuple of ints stride, str padding, tuple of ints dilation, int groups)\n      didn't match because some of the arguments have invalid types: (!str!, !Parameter!, !NoneType!, !tuple!, !tuple!, !tuple!, int)\n"
          ]
        }
      ],
      "source": [
        "# prepare to count predictions for each class\n",
        "correct_pred = {classname: 0 for classname in classes}\n",
        "total_pred = {classname: 0 for classname in classes}\n",
        "\n",
        "# again no gradients needed\n",
        "with torch.no_grad():\n",
        "    for data in te_loader:\n",
        "        images, labels = data        \n",
        "        outputs = net(images)        \n",
        "        _, preds = outputs.logits.T[0].float()\n",
        "        # collect the correct predictions for each class\n",
        "        for label, prediction in zip(labels, preds):\n",
        "            if label == prediction:\n",
        "                correct_pred[classes[label]] += 1\n",
        "            total_pred[classes[label]] += 1\n",
        "\n",
        "sum = 0\n",
        "# print accuracy for each class\n",
        "for classname, correct_count in correct_pred.items():\n",
        "    accuracy = 100 * float(correct_count) / total_pred[classname]\n",
        "    print(\"Accuracy for class {:5s} is: {:.1f} %\".format(classname, \n",
        "                                                         accuracy))"
      ]
    }
  ],
  "metadata": {
    "accelerator": "GPU",
    "colab": {
      "collapsed_sections": [
        "Zlfeu3Q4ThY6",
        "qLrr4-olTtMI",
        "6Va9qimoUFGM",
        "bx7UOEp6Y7u3",
        "JyykhMzbZYzQ",
        "H23PYK5aZGUu"
      ],
      "name": "pawpularity.ipynb",
      "provenance": []
    },
    "gpuClass": "standard",
    "kernelspec": {
      "display_name": "Python 3.10.5 ('env': venv)",
      "language": "python",
      "name": "python3"
    },
    "language_info": {
      "codemirror_mode": {
        "name": "ipython",
        "version": 3
      },
      "file_extension": ".py",
      "mimetype": "text/x-python",
      "name": "python",
      "nbconvert_exporter": "python",
      "pygments_lexer": "ipython3",
      "version": "3.10.7"
    },
    "vscode": {
      "interpreter": {
        "hash": "a9ad8920bb78f3b9ee685a2982fce53b34c2329a1cdf200f7ae47c60ce55a53d"
      }
    }
  },
  "nbformat": 4,
  "nbformat_minor": 0
}
