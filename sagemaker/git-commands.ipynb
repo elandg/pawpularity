{
 "cells": [
  {
   "cell_type": "code",
   "execution_count": 2,
   "id": "21f4d3bd",
   "metadata": {},
   "outputs": [
    {
     "name": "stdout",
     "output_type": "stream",
     "text": [
      "Already up to date.\r\n"
     ]
    }
   ],
   "source": [
    "!git pull"
   ]
  },
  {
   "cell_type": "code",
   "execution_count": 10,
   "id": "737613ea",
   "metadata": {},
   "outputs": [],
   "source": [
    "!git add ../*"
   ]
  },
  {
   "cell_type": "code",
   "execution_count": 15,
   "id": "442cb572",
   "metadata": {},
   "outputs": [
    {
     "name": "stdout",
     "output_type": "stream",
     "text": [
      "Unstaged changes after reset:\r\n",
      "D\tpawpularity.py\r\n",
      "D\tutils/dataset.py\r\n",
      "D\tutils/model.py\r\n",
      "D\tutils/pawpularity_system.py\r\n",
      "D\tutils/utils.py\r\n"
     ]
    }
   ],
   "source": [
    "!git reset"
   ]
  },
  {
   "cell_type": "code",
   "execution_count": 16,
   "id": "7fa3e68d",
   "metadata": {},
   "outputs": [
    {
     "name": "stdout",
     "output_type": "stream",
     "text": [
      "On branch main\r\n",
      "Your branch is up to date with 'origin/main'.\r\n",
      "\r\n",
      "Changes not staged for commit:\r\n",
      "  (use \"git add/rm <file>...\" to update what will be committed)\r\n",
      "  (use \"git restore <file>...\" to discard changes in working directory)\r\n",
      "\t\u001b[31mdeleted:    ../pawpularity.py\u001b[m\r\n",
      "\t\u001b[31mdeleted:    ../utils/dataset.py\u001b[m\r\n",
      "\t\u001b[31mdeleted:    ../utils/model.py\u001b[m\r\n",
      "\t\u001b[31mdeleted:    ../utils/pawpularity_system.py\u001b[m\r\n",
      "\t\u001b[31mdeleted:    ../utils/utils.py\u001b[m\r\n",
      "\r\n",
      "Untracked files:\r\n",
      "  (use \"git add <file>...\" to include in what will be committed)\r\n",
      "\t\u001b[31m./\u001b[m\r\n",
      "\t\u001b[31m../src/\u001b[m\r\n",
      "\r\n",
      "no changes added to commit (use \"git add\" and/or \"git commit -a\")\r\n"
     ]
    }
   ],
   "source": [
    "!git mv "
   ]
  },
  {
   "cell_type": "code",
   "execution_count": null,
   "id": "a8d2a261",
   "metadata": {},
   "outputs": [],
   "source": [
    "!git commit -m \"started sagemaker\""
   ]
  }
 ],
 "metadata": {
  "kernelspec": {
   "display_name": "conda_python3",
   "language": "python",
   "name": "conda_python3"
  },
  "language_info": {
   "codemirror_mode": {
    "name": "ipython",
    "version": 3
   },
   "file_extension": ".py",
   "mimetype": "text/x-python",
   "name": "python",
   "nbconvert_exporter": "python",
   "pygments_lexer": "ipython3",
   "version": "3.10.15"
  }
 },
 "nbformat": 4,
 "nbformat_minor": 5
}
